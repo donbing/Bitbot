{
  "cells": [
    {
      "cell_type": "markdown",
      "metadata": {},
      "source": [
        "# Bitbot"
      ]
    },
    {
      "cell_type": "markdown",
      "metadata": {},
      "source": [
        "## Jupyter notebook setup"
      ]
    },
    {
      "cell_type": "code",
      "execution_count": 6,
      "metadata": {
        "id": "TGhh4E4ctNiS"
      },
      "outputs": [],
      "source": [
        "# This allows multiple outputs from a single jupyter notebook cell:\n",
        "from IPython.core.interactiveshell import InteractiveShell\n",
        "InteractiveShell.ast_node_interactivity = \"all\""
      ]
    },
    {
      "cell_type": "code",
      "execution_count": 7,
      "metadata": {
        "colab": {
          "base_uri": "https://localhost:8080/"
        },
        "id": "gohAI0ditNiT",
        "outputId": "49b29a80-c7e0-42a4-b407-a02f62d744a5"
      },
      "outputs": [
        {
          "name": "stdout",
          "output_type": "stream",
          "text": [
            "Requirement already satisfied: ccxt in /home/chris/.local/lib/python3.8/site-packages (1.66.90)\n",
            "Requirement already satisfied: mplfinance in /home/chris/.local/lib/python3.8/site-packages (0.12.8b6)\n",
            "Requirement already satisfied: yfinance in /home/chris/.local/lib/python3.8/site-packages (0.1.69)\n",
            "Requirement already satisfied: setuptools>=38.5.1 in /home/chris/.local/lib/python3.8/site-packages (from ccxt) (60.9.3)\n",
            "Requirement already satisfied: certifi>=2018.1.18 in /usr/lib/python3/dist-packages (from ccxt) (2019.11.28)\n",
            "Requirement already satisfied: requests>=2.18.4 in /home/chris/.local/lib/python3.8/site-packages (from ccxt) (2.27.1)\n",
            "Requirement already satisfied: aiodns>=1.1.1; python_version >= \"3.5.2\" in /home/chris/.local/lib/python3.8/site-packages (from ccxt) (2.0.0)\n",
            "Requirement already satisfied: aiohttp>=3.8; python_version >= \"3.5.2\" in /home/chris/.local/lib/python3.8/site-packages (from ccxt) (3.8.1)\n",
            "Requirement already satisfied: cryptography>=2.6.1 in /usr/lib/python3/dist-packages (from ccxt) (2.8)\n",
            "Requirement already satisfied: yarl==1.7.2; python_version >= \"3.5.2\" in /home/chris/.local/lib/python3.8/site-packages (from ccxt) (1.7.2)\n",
            "Requirement already satisfied: matplotlib in /home/chris/.local/lib/python3.8/site-packages (from mplfinance) (3.5.1)\n",
            "Requirement already satisfied: pandas in /home/chris/.local/lib/python3.8/site-packages (from mplfinance) (1.3.5)\n",
            "Requirement already satisfied: numpy>=1.15 in /home/chris/.local/lib/python3.8/site-packages (from yfinance) (1.22.0)\n",
            "Requirement already satisfied: lxml>=4.5.1 in /home/chris/.local/lib/python3.8/site-packages (from yfinance) (4.7.1)\n",
            "Requirement already satisfied: multitasking>=0.0.7 in /home/chris/.local/lib/python3.8/site-packages (from yfinance) (0.0.10)\n",
            "Requirement already satisfied: urllib3<1.27,>=1.21.1 in /usr/lib/python3/dist-packages (from requests>=2.18.4->ccxt) (1.25.8)\n",
            "Requirement already satisfied: idna<4,>=2.5; python_version >= \"3\" in /usr/lib/python3/dist-packages (from requests>=2.18.4->ccxt) (2.8)\n",
            "Requirement already satisfied: charset-normalizer~=2.0.0; python_version >= \"3\" in /home/chris/.local/lib/python3.8/site-packages (from requests>=2.18.4->ccxt) (2.0.10)\n",
            "Requirement already satisfied: pycares>=3.0.0 in /home/chris/.local/lib/python3.8/site-packages (from aiodns>=1.1.1; python_version >= \"3.5.2\"->ccxt) (4.1.2)\n",
            "Requirement already satisfied: attrs>=17.3.0 in /usr/lib/python3/dist-packages (from aiohttp>=3.8; python_version >= \"3.5.2\"->ccxt) (19.3.0)\n",
            "Requirement already satisfied: async-timeout<5.0,>=4.0.0a3 in /home/chris/.local/lib/python3.8/site-packages (from aiohttp>=3.8; python_version >= \"3.5.2\"->ccxt) (4.0.2)\n",
            "Requirement already satisfied: aiosignal>=1.1.2 in /home/chris/.local/lib/python3.8/site-packages (from aiohttp>=3.8; python_version >= \"3.5.2\"->ccxt) (1.2.0)\n",
            "Requirement already satisfied: multidict<7.0,>=4.5 in /home/chris/.local/lib/python3.8/site-packages (from aiohttp>=3.8; python_version >= \"3.5.2\"->ccxt) (5.2.0)\n",
            "Requirement already satisfied: frozenlist>=1.1.1 in /home/chris/.local/lib/python3.8/site-packages (from aiohttp>=3.8; python_version >= \"3.5.2\"->ccxt) (1.2.0)\n",
            "Requirement already satisfied: pyparsing>=2.2.1 in /usr/lib/python3/dist-packages (from matplotlib->mplfinance) (2.4.6)\n",
            "Requirement already satisfied: pillow>=6.2.0 in /home/chris/.local/lib/python3.8/site-packages (from matplotlib->mplfinance) (9.0.1)\n",
            "Requirement already satisfied: cycler>=0.10 in /usr/lib/python3/dist-packages (from matplotlib->mplfinance) (0.10.0)\n",
            "Requirement already satisfied: fonttools>=4.22.0 in /home/chris/.local/lib/python3.8/site-packages (from matplotlib->mplfinance) (4.28.5)\n",
            "Requirement already satisfied: kiwisolver>=1.0.1 in /usr/lib/python3/dist-packages (from matplotlib->mplfinance) (1.0.1)\n",
            "Requirement already satisfied: packaging>=20.0 in /home/chris/.local/lib/python3.8/site-packages (from matplotlib->mplfinance) (21.3)\n",
            "Requirement already satisfied: python-dateutil>=2.7 in /usr/lib/python3/dist-packages (from matplotlib->mplfinance) (2.7.3)\n",
            "Requirement already satisfied: pytz>=2017.3 in /home/chris/.local/lib/python3.8/site-packages (from pandas->mplfinance) (2021.3)\n",
            "Requirement already satisfied: cffi>=1.5.0 in /home/chris/.local/lib/python3.8/site-packages (from pycares>=3.0.0->aiodns>=1.1.1; python_version >= \"3.5.2\"->ccxt) (1.15.0)\n",
            "Requirement already satisfied: pycparser in /home/chris/.local/lib/python3.8/site-packages (from cffi>=1.5.0->pycares>=3.0.0->aiodns>=1.1.1; python_version >= \"3.5.2\"->ccxt) (2.21)\n"
          ]
        }
      ],
      "source": [
        "%matplotlib inline\n",
        "import pandas as pd\n",
        "from src.bitbot import BitBot\n",
        "import sys\n",
        "!{sys.executable} -m pip install ccxt mplfinance yfinance\n",
        "import ccxt\n",
        "import mplfinance as mpf\n",
        "from matplotlib.pyplot import imshow\n",
        "import yfinance\n",
        "import pathlib\n",
        "import os\n",
        "from src.configuration.bitbot_files import use_config_dir\n",
        "from src.configuration.bitbot_config import load_config_ini"
      ]
    },
    {
      "cell_type": "markdown",
      "metadata": {},
      "source": [
        "## Prep chart data"
      ]
    },
    {
      "cell_type": "markdown",
      "metadata": {},
      "source": [
        "Load config files"
      ]
    },
    {
      "cell_type": "code",
      "execution_count": 8,
      "metadata": {},
      "outputs": [],
      "source": [
        "curdir = pathlib.Path(os.path.abspath('')).resolve()\n",
        "files = use_config_dir(curdir)\n",
        "config = load_config_ini(files)\n",
        "config.set('display', 'output', 'disk')"
      ]
    },
    {
      "cell_type": "markdown",
      "metadata": {},
      "source": [
        "Convert candle data to pandas"
      ]
    },
    {
      "cell_type": "code",
      "execution_count": 9,
      "metadata": {},
      "outputs": [],
      "source": [
        "data_frame = pd.DataFrame(\n",
        "    chart_data.candle_data,\n",
        "    columns=['date', 'open', 'high', 'low', 'close', 'volume'])\n",
        "    \n",
        "data_frame.index = pd.DatetimeIndex(data_frame['date'])"
      ]
    },
    {
      "cell_type": "markdown",
      "metadata": {
        "id": "nN1FqsfOtNiU"
      },
      "source": [
        "Fetch candle data"
      ]
    },
    {
      "cell_type": "markdown",
      "metadata": {},
      "source": [
        "## Display Bitbot overlaid chart "
      ]
    },
    {
      "cell_type": "markdown",
      "metadata": {},
      "source": [
        "Fetch exchange data"
      ]
    },
    {
      "cell_type": "code",
      "execution_count": 10,
      "metadata": {},
      "outputs": [],
      "source": [
        "# fetch configured price history\n",
        "from src.exchanges import crypto_exchanges\n",
        "exchange = crypto_exchanges.Exchange(config)\n",
        "chart_data = exchange.fetch_history()"
      ]
    },
    {
      "cell_type": "markdown",
      "metadata": {},
      "source": [
        "Run Bitbot chart"
      ]
    },
    {
      "cell_type": "code",
      "execution_count": 32,
      "metadata": {},
      "outputs": [
        {
          "data": {
            "image/png": "[encoded data removed]",
            "text/plain": [
              "<PIL.PngImagePlugin.PngImageFile image mode=RGBA size=400x300 at 0x7FA3F9B202B0>"
            ]
          },
          "metadata": {},
          "output_type": "display_data"
        }
      ],
      "source": [
        "app = BitBot(config, files)\n",
        "img  = app.display_chart()\n",
        "img.show()"
      ]
    },
    {
      "cell_type": "markdown",
      "metadata": {},
      "source": [
        "#### Display Bitbot MPF plot"
      ]
    },
    {
      "cell_type": "code",
      "execution_count": 28,
      "metadata": {},
      "outputs": [
        {
          "data": {
            "image/png": "[encoded data removed]",
            "text/plain": [
              "<PIL.PngImagePlugin.PngImageFile image mode=RGBA size=400x300 at 0x7FA3B4C462B0>"
            ]
          },
          "metadata": {},
          "output_type": "display_data"
        }
      ],
      "source": [
        "from src.drawing.market_chart import MarketChart\n",
        "from src.display.picker import picker as display_picker\n",
        "from PIL import Image\n",
        "import io\n",
        "\n",
        "display = display_picker(config)\n",
        "chart = MarketChart(config, display, files)\n",
        "\n",
        "with io.BytesIO() as file_stream:\n",
        "    chart.create_plot(chart_data).write_to_stream(file_stream)\n",
        "    chart_image = Image.open(file_stream)\n",
        "    chart_image.show()"
      ]
    },
    {
      "cell_type": "markdown",
      "metadata": {
        "id": "JumRYLCatcWu"
      },
      "source": [
        "## CCXT"
      ]
    },
    {
      "cell_type": "markdown",
      "metadata": {},
      "source": [
        "### Load Exchange and markets"
      ]
    },
    {
      "cell_type": "code",
      "execution_count": 11,
      "metadata": {
        "id": "eN618pI5tNiT"
      },
      "outputs": [],
      "source": [
        "exchange = getattr(ccxt, 'bitmex')({ \n",
        "    #'apiKey': '<YOUR API KEY HERE>',\n",
        "    #'secret': '<YOUR API SECRET HERE>',\n",
        "    'enableRateLimit': True,\n",
        "})\n",
        "mkts = exchange.loadMarkets()"
      ]
    },
    {
      "cell_type": "code",
      "execution_count": 12,
      "metadata": {
        "colab": {
          "base_uri": "https://localhost:8080/",
          "height": 175
        },
        "id": "9u0BXPm_tNiU",
        "outputId": "5aa5560e-5886-4bae-926e-e75310b6a341"
      },
      "outputs": [
        {
          "data": {
            "text/html": [
              "<div>\n",
              "<style scoped>\n",
              "    .dataframe tbody tr th:only-of-type {\n",
              "        vertical-align: middle;\n",
              "    }\n",
              "\n",
              "    .dataframe tbody tr th {\n",
              "        vertical-align: top;\n",
              "    }\n",
              "\n",
              "    .dataframe thead th {\n",
              "        text-align: right;\n",
              "    }\n",
              "</style>\n",
              "<table border=\"1\" class=\"dataframe\">\n",
              "  <thead>\n",
              "    <tr style=\"text-align: right;\">\n",
              "      <th></th>\n",
              "      <th>Date</th>\n",
              "      <th>Open</th>\n",
              "      <th>Low</th>\n",
              "      <th>High</th>\n",
              "      <th>Close</th>\n",
              "      <th>Volume</th>\n",
              "    </tr>\n",
              "    <tr>\n",
              "      <th>Date</th>\n",
              "      <th></th>\n",
              "      <th></th>\n",
              "      <th></th>\n",
              "      <th></th>\n",
              "      <th></th>\n",
              "      <th></th>\n",
              "    </tr>\n",
              "  </thead>\n",
              "  <tbody>\n",
              "    <tr>\n",
              "      <th>2022-03-21 14:45:00</th>\n",
              "      <td>2022-03-21 14:45:00</td>\n",
              "      <td>40823.5</td>\n",
              "      <td>40899.0</td>\n",
              "      <td>40784.0</td>\n",
              "      <td>40863.5</td>\n",
              "      <td>5001000.0</td>\n",
              "    </tr>\n",
              "    <tr>\n",
              "      <th>2022-03-21 14:50:00</th>\n",
              "      <td>2022-03-21 14:50:00</td>\n",
              "      <td>40863.5</td>\n",
              "      <td>40941.0</td>\n",
              "      <td>40867.0</td>\n",
              "      <td>40941.0</td>\n",
              "      <td>1564500.0</td>\n",
              "    </tr>\n",
              "    <tr>\n",
              "      <th>2022-03-21 14:55:00</th>\n",
              "      <td>2022-03-21 14:55:00</td>\n",
              "      <td>40941.0</td>\n",
              "      <td>41059.0</td>\n",
              "      <td>40913.5</td>\n",
              "      <td>41019.0</td>\n",
              "      <td>7384800.0</td>\n",
              "    </tr>\n",
              "  </tbody>\n",
              "</table>\n",
              "</div>"
            ],
            "text/plain": [
              "                                   Date     Open      Low     High    Close  \\\n",
              "Date                                                                          \n",
              "2022-03-21 14:45:00 2022-03-21 14:45:00  40823.5  40899.0  40784.0  40863.5   \n",
              "2022-03-21 14:50:00 2022-03-21 14:50:00  40863.5  40941.0  40867.0  40941.0   \n",
              "2022-03-21 14:55:00 2022-03-21 14:55:00  40941.0  41059.0  40913.5  41019.0   \n",
              "\n",
              "                        Volume  \n",
              "Date                            \n",
              "2022-03-21 14:45:00  5001000.0  \n",
              "2022-03-21 14:50:00  1564500.0  \n",
              "2022-03-21 14:55:00  7384800.0  "
            ]
          },
          "execution_count": 12,
          "metadata": {},
          "output_type": "execute_result"
        }
      ],
      "source": [
        "exchange_data = exchange.fetchOHLCV('BTC/USD', '5m', limit=60)\n",
        "df = pd.DataFrame(exchange_data)\n",
        "df.columns = [\"Date\", \"Open\", \"Low\", \"High\", \"Close\", \"Volume\"]\n",
        "df['Date'] = df['Date'].astype('datetime64[ms]')\n",
        "df.index = pd.DatetimeIndex(df[\"Date\"])\n",
        "df.head(3)"
      ]
    },
    {
      "cell_type": "code",
      "execution_count": 271,
      "metadata": {},
      "outputs": [
        {
          "data": {
            "text/plain": [
              "Text(0, 0.5, '')"
            ]
          },
          "execution_count": 271,
          "metadata": {},
          "output_type": "execute_result"
        },
        {
          "data": {
            "image/png": "[encoded data removed]",
            "text/plain": [
              "<Figure size 400x300 with 2 Axes>"
            ]
          },
          "execution_count": 271,
          "metadata": {},
          "output_type": "execute_result"
        }
      ],
      "source": [
        "from matplotlib.ticker import EngFormatter\n",
        "import matplotlib.pyplot as plt\n",
        "mc = mpf.make_marketcolors(\n",
        "    alpha=1.0,\n",
        "    up='black', down='red',\n",
        "    edge={'up': 'black', 'down': 'red'},  # 'none',\n",
        "    wick={'up': 'black', 'down': 'red'},\n",
        "    volume={'up': 'black', 'down': 'red'})\n",
        "rc = {\n",
        "    # \"axes.xmargin\": 0.1,\n",
        "    # \"axes.ymargin\": 0.1,\n",
        "    \"axes.autolimit_mode\": \"round_numbers\",\n",
        "    #\"axes.autoscale\": \"true\",\n",
        "    #'figure.constrained_layout.use': True\n",
        "}\n",
        "s = mpf.make_mpf_style(\n",
        "    marketcolors=mc,\n",
        "    base_mpl_style=files.base_style,\n",
        "    mavcolors=['#1f77b4', '#ff7f0e', '#2ca02c'],\n",
        "    rc=rc\n",
        ")\n",
        "display = display_picker(config)\n",
        "display_width, display_height = display.size()\n",
        "figsize = (display_width / 100, display_height / 100)\n",
        "\n",
        "fig, ax = mpf.plot(\n",
        "    data_frame,\n",
        "    scale_width_adjustment=dict(volume=0.4, candle=0.8, lines=0.5),\n",
        "    update_width_config=dict(candle_linewidth=0.5),\n",
        "    returnfig=True,\n",
        "    type='candle',\n",
        "    # mav=(10, 20),\n",
        "    style=s,\n",
        "    tight_layout=True,\n",
        "    figsize=figsize,\n",
        "    xrotation=0,\n",
        ")\n",
        "ax[0].autoscale(enable=True, axis=\"x\", tight=True)\n",
        "ax[0].autoscale(enable=True, axis=\"y\", tight=True)\n",
        "ax[0].set_ylabel(\"\")\n",
        "ax[0].yaxis.set_major_formatter(EngFormatter(sep='',places=1))\n",
        "ax[0].margins(0.05, 0.05)\n",
        "fig"
      ]
    }
  ],
  "metadata": {
    "colab": {
      "collapsed_sections": [],
      "name": "Copy of external_axes.ipynb",
      "provenance": []
    },
    "kernelspec": {
      "display_name": "Python 3",
      "language": "python",
      "name": "python3"
    },
    "language_info": {
      "codemirror_mode": {
        "name": "ipython",
        "version": 3
      },
      "file_extension": ".py",
      "mimetype": "text/x-python",
      "name": "python",
      "nbconvert_exporter": "python",
      "pygments_lexer": "ipython3",
      "version": "3.8.10"
    }
  },
  "nbformat": 4,
  "nbformat_minor": 0
}
