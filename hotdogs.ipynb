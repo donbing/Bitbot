{
  "cells": [
    {
      "cell_type": "markdown",
      "metadata": {},
      "source": [
        "# Bitbot"
      ]
    },
    {
      "cell_type": "markdown",
      "metadata": {},
      "source": [
        "## Setup"
      ]
    },
    {
      "cell_type": "markdown",
      "metadata": {},
      "source": [
        "### Jupyter"
      ]
    },
    {
      "cell_type": "code",
      "execution_count": 41,
      "metadata": {
        "id": "TGhh4E4ctNiS"
      },
      "outputs": [],
      "source": [
        "# This allows multiple outputs from a single jupyter notebook cell:\n",
        "from IPython.core.interactiveshell import InteractiveShell\n",
        "InteractiveShell.ast_node_interactivity = \"all\""
      ]
    },
    {
      "cell_type": "markdown",
      "metadata": {},
      "source": [
        "### Imports"
      ]
    },
    {
      "cell_type": "code",
      "execution_count": 42,
      "metadata": {
        "colab": {
          "base_uri": "https://localhost:8080/"
        },
        "id": "gohAI0ditNiT",
        "outputId": "49b29a80-c7e0-42a4-b407-a02f62d744a5"
      },
      "outputs": [],
      "source": [
        "%%capture test\n",
        "import pandas as pd\n",
        "from src.bitbot import BitBot\n",
        "import sys\n",
        "!{sys.executable} -m pip install ccxt mplfinance yfinance\n",
        "import ccxt\n",
        "import mplfinance as mpf\n",
        "from matplotlib.pyplot import imshow\n",
        "import yfinance\n",
        "import pathlib\n",
        "import os\n",
        "from src.configuration.bitbot_files import use_config_dir\n",
        "from src.configuration.bitbot_config import load_config_ini"
      ]
    },
    {
      "cell_type": "markdown",
      "metadata": {},
      "source": [
        "### Load config files"
      ]
    },
    {
      "cell_type": "code",
      "execution_count": 43,
      "metadata": {},
      "outputs": [],
      "source": [
        "curdir = pathlib.Path(os.path.abspath('')).resolve()\n",
        "files = use_config_dir(curdir)\n",
        "config = load_config_ini(files)\n",
        "config.set('display', 'output', 'disk')"
      ]
    },
    {
      "cell_type": "markdown",
      "metadata": {},
      "source": [
        "## Bitbot display output  "
      ]
    },
    {
      "cell_type": "code",
      "execution_count": 44,
      "metadata": {},
      "outputs": [
        {
          "data": {
            "image/png": "[encoded data removed]",
            "text/plain": [
              "<PIL.PngImagePlugin.PngImageFile image mode=RGBA size=400x300 at 0x7F4F9016BF70>"
            ]
          },
          "metadata": {},
          "output_type": "display_data"
        }
      ],
      "source": [
        "app = BitBot(config, files)\n",
        "img  = app.display_chart()\n",
        "img.show()"
      ]
    },
    {
      "cell_type": "markdown",
      "metadata": {},
      "source": [
        "## Bitbot chart generation"
      ]
    },
    {
      "cell_type": "code",
      "execution_count": 45,
      "metadata": {},
      "outputs": [],
      "source": [
        "# fetch configured candle history\n",
        "from src.exchanges import crypto_exchanges\n",
        "exchange = crypto_exchanges.Exchange(config)\n",
        "chart_data = exchange.fetch_history()"
      ]
    },
    {
      "cell_type": "code",
      "execution_count": 46,
      "metadata": {},
      "outputs": [
        {
          "data": {
            "image/png": "[encoded data removed]",
            "text/plain": [
              "<PIL.PngImagePlugin.PngImageFile image mode=RGBA size=400x300 at 0x7F4FA1260910>"
            ]
          },
          "metadata": {},
          "output_type": "display_data"
        }
      ],
      "source": [
        "# plot chart and show image\n",
        "from src.drawing.market_chart import MarketChart\n",
        "from src.display.picker import picker as display_picker\n",
        "from PIL import Image\n",
        "import io\n",
        "\n",
        "display = display_picker(config)\n",
        "chart = MarketChart(config, display, files)\n",
        "\n",
        "with io.BytesIO() as file_stream:\n",
        "    chart.create_plot(chart_data).write_to_stream(file_stream)\n",
        "    chart_image = Image.open(file_stream)\n",
        "    chart_image.show()"
      ]
    },
    {
      "cell_type": "markdown",
      "metadata": {},
      "source": [
        "## MPF plot"
      ]
    },
    {
      "cell_type": "code",
      "execution_count": 47,
      "metadata": {
        "id": "eN618pI5tNiT"
      },
      "outputs": [],
      "source": [
        "# load markets for selected exchange\n",
        "exchange = getattr(ccxt, 'bitmex')()\n",
        "mkts = exchange.loadMarkets()"
      ]
    },
    {
      "cell_type": "code",
      "execution_count": 179,
      "metadata": {
        "colab": {
          "base_uri": "https://localhost:8080/",
          "height": 175
        },
        "id": "9u0BXPm_tNiU",
        "outputId": "5aa5560e-5886-4bae-926e-e75310b6a341"
      },
      "outputs": [],
      "source": [
        "# fetch candles\n",
        "exchange_data = exchange.fetchOHLCV('BTC/USD', '1d', limit=40)\n",
        "# convert candles to dataframe\n",
        "df = pd.DataFrame(exchange_data)\n",
        "df.columns = [\"Date\", \"Open\", \"Low\", \"High\", \"Close\", \"Volume\"]\n",
        "df['Date'] = pd.to_datetime(df['Date'].astype('datetime64[ms]'))\n",
        "\n",
        "#df.index = pd.DatetimeIndex(df[\"Date\"].astype('datetime64[ms]'))\n",
        "df.set_index('Date', inplace=True)\n",
        "# df"
      ]
    },
    {
      "cell_type": "markdown",
      "metadata": {},
      "source": [
        "### Try draw attractive graph"
      ]
    },
    {
      "cell_type": "markdown",
      "metadata": {},
      "source": [
        "#### arse"
      ]
    },
    {
      "cell_type": "code",
      "execution_count": 180,
      "metadata": {},
      "outputs": [
        {
          "data": {
            "image/png": "[encoded data removed]",
            "text/plain": [
              "<Figure size 400x300 with 2 Axes>"
            ]
          },
          "execution_count": 180,
          "metadata": {},
          "output_type": "execute_result"
        }
      ],
      "source": [
        "from matplotlib.ticker import EngFormatter\n",
        "import numpy \n",
        "\n",
        "display_size = (400,300)\n",
        "\n",
        "mc = mpf.make_marketcolors(\n",
        "    alpha=1.0,\n",
        "    up='black', down='red',\n",
        "    edge={'up': 'black', 'down': 'red'},  # 'none',\n",
        "    wick={'up': 'black', 'down': 'red'},\n",
        "    volume={'up': 'black', 'down': 'red'}\n",
        ")\n",
        "\n",
        "s = mpf.make_mpf_style(\n",
        "    marketcolors=mc,\n",
        "    base_mpl_style=files.base_style,\n",
        "    mavcolors=['#1f77b4', '#ff7f0e', '#2ca02c'],\n",
        ")\n",
        "\n",
        "candle_time_delta = df.index.values[1] - df.index.values[0]\n",
        "\n",
        "if(candle_time_delta <= numpy.timedelta64(1,'h')):\n",
        "    format = '%H:%M'\n",
        "elif(candle_time_delta <= numpy.timedelta64(1,'D')): \n",
        "    format = '%d'\n",
        "else:\n",
        "    format = '%b.%d'\n",
        "\n",
        "\n",
        "fig, ax = mpf.plot(\n",
        "    df,\n",
        "    scale_width_adjustment=dict(volume=0.9, candle=0.7, lines=0.05),\n",
        "    update_width_config=dict(candle_linewidth=0.6),\n",
        "    returnfig=True,\n",
        "    type='candle',\n",
        "    # mav=(10, 20),\n",
        "    # volume=True,\n",
        "    style=s,\n",
        "    tight_layout=True,\n",
        "    figsize=tuple(dim/100 for dim in display_size),\n",
        "    xrotation=0,\n",
        "    datetime_format=format,\n",
        ")\n",
        "\n",
        "#ax[0].xaxis.set_major_locator(mdates.AutoDateLocator(interval_multiples=True))\n",
        "#ax[0].xaxis.set_major_formatter(date_formatter)\n",
        "#ax[0].xaxis.set_major_formatter(mdates.ConciseDateFormatter(ax[0].xaxis.major.locator))\n",
        "#ax[0].xaxis.set_major_formatter(MyFormatter(df.index))\n",
        "for a in ax: \n",
        "    a.yaxis.set_major_formatter(EngFormatter(sep=''))\n",
        "    a.autoscale(enable=True, axis=\"x\", tight=True)\n",
        "    a.autoscale(enable=True, axis=\"y\", tight=True)\n",
        "    a.margins(0.05, 0.2)\n",
        "    _ = a.set_ylabel(\"\")\n",
        "    _ = a.set_xlabel(\"\")\n",
        "fig"
      ]
    }
  ],
  "metadata": {
    "colab": {
      "collapsed_sections": [],
      "name": "Copy of external_axes.ipynb",
      "provenance": []
    },
    "kernelspec": {
      "display_name": "Python 3",
      "language": "python",
      "name": "python3"
    },
    "language_info": {
      "codemirror_mode": {
        "name": "ipython",
        "version": 3
      },
      "file_extension": ".py",
      "mimetype": "text/x-python",
      "name": "python",
      "nbconvert_exporter": "python",
      "pygments_lexer": "ipython3",
      "version": "3.8.10"
    }
  },
  "nbformat": 4,
  "nbformat_minor": 0
}
