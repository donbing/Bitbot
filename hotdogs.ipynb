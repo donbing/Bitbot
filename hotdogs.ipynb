{
  "cells": [
    {
      "cell_type": "markdown",
      "metadata": {},
      "source": [
        "# Bitbot"
      ]
    },
    {
      "cell_type": "markdown",
      "metadata": {},
      "source": [
        "## Setup"
      ]
    },
    {
      "cell_type": "markdown",
      "metadata": {},
      "source": [
        "### Jupyter"
      ]
    },
    {
      "cell_type": "code",
      "execution_count": 10,
      "metadata": {
        "id": "TGhh4E4ctNiS"
      },
      "outputs": [],
      "source": [
        "# This allows multiple outputs from a single jupyter notebook cell:\n",
        "from IPython.core.interactiveshell import InteractiveShell\n",
        "InteractiveShell.ast_node_interactivity = \"all\""
      ]
    },
    {
      "cell_type": "markdown",
      "metadata": {},
      "source": [
        "### Imports"
      ]
    },
    {
      "cell_type": "code",
      "execution_count": 11,
      "metadata": {
        "colab": {
          "base_uri": "https://localhost:8080/"
        },
        "id": "gohAI0ditNiT",
        "outputId": "49b29a80-c7e0-42a4-b407-a02f62d744a5"
      },
      "outputs": [
        {
          "name": "stdout",
          "output_type": "stream",
          "text": [
            "Collecting git+https://github.com/donbing/mplfinance.git\n",
            "  Cloning https://github.com/donbing/mplfinance.git to /tmp/pip-req-build-eh5m4bj3\n",
            "  Running command git clone -q https://github.com/donbing/mplfinance.git /tmp/pip-req-build-eh5m4bj3\n",
            "Requirement already satisfied (use --upgrade to upgrade): mplfinance==0.12.8b10 from git+https://github.com/donbing/mplfinance.git in /home/chris/.local/lib/python3.8/site-packages\n",
            "Requirement already satisfied: ccxt in /home/chris/.local/lib/python3.8/site-packages (1.66.90)\n",
            "Requirement already satisfied: yfinance in /home/chris/.local/lib/python3.8/site-packages (0.1.69)\n",
            "Requirement already satisfied: matplotlib in /home/chris/.local/lib/python3.8/site-packages (from mplfinance==0.12.8b10) (3.5.1)\n",
            "Requirement already satisfied: pandas in /home/chris/.local/lib/python3.8/site-packages (from mplfinance==0.12.8b10) (1.3.5)\n",
            "Requirement already satisfied: aiodns>=1.1.1; python_version >= \"3.5.2\" in /home/chris/.local/lib/python3.8/site-packages (from ccxt) (2.0.0)\n",
            "Requirement already satisfied: aiohttp>=3.8; python_version >= \"3.5.2\" in /home/chris/.local/lib/python3.8/site-packages (from ccxt) (3.8.1)\n",
            "Requirement already satisfied: yarl==1.7.2; python_version >= \"3.5.2\" in /home/chris/.local/lib/python3.8/site-packages (from ccxt) (1.7.2)\n",
            "Requirement already satisfied: requests>=2.18.4 in /home/chris/.local/lib/python3.8/site-packages (from ccxt) (2.27.1)\n",
            "Requirement already satisfied: certifi>=2018.1.18 in /usr/lib/python3/dist-packages (from ccxt) (2019.11.28)\n",
            "Requirement already satisfied: setuptools>=38.5.1 in /home/chris/.local/lib/python3.8/site-packages (from ccxt) (60.9.3)\n",
            "Requirement already satisfied: cryptography>=2.6.1 in /usr/lib/python3/dist-packages (from ccxt) (2.8)\n",
            "Requirement already satisfied: numpy>=1.15 in /home/chris/.local/lib/python3.8/site-packages (from yfinance) (1.22.0)\n",
            "Requirement already satisfied: multitasking>=0.0.7 in /home/chris/.local/lib/python3.8/site-packages (from yfinance) (0.0.10)\n",
            "Requirement already satisfied: lxml>=4.5.1 in /home/chris/.local/lib/python3.8/site-packages (from yfinance) (4.7.1)\n",
            "Requirement already satisfied: packaging>=20.0 in /home/chris/.local/lib/python3.8/site-packages (from matplotlib->mplfinance==0.12.8b10) (21.3)\n",
            "Requirement already satisfied: pillow>=6.2.0 in /home/chris/.local/lib/python3.8/site-packages (from matplotlib->mplfinance==0.12.8b10) (9.0.1)\n",
            "Requirement already satisfied: cycler>=0.10 in /usr/lib/python3/dist-packages (from matplotlib->mplfinance==0.12.8b10) (0.10.0)\n",
            "Requirement already satisfied: kiwisolver>=1.0.1 in /usr/lib/python3/dist-packages (from matplotlib->mplfinance==0.12.8b10) (1.0.1)\n",
            "Requirement already satisfied: pyparsing>=2.2.1 in /usr/lib/python3/dist-packages (from matplotlib->mplfinance==0.12.8b10) (2.4.6)\n",
            "Requirement already satisfied: python-dateutil>=2.7 in /usr/lib/python3/dist-packages (from matplotlib->mplfinance==0.12.8b10) (2.7.3)\n",
            "Requirement already satisfied: fonttools>=4.22.0 in /home/chris/.local/lib/python3.8/site-packages (from matplotlib->mplfinance==0.12.8b10) (4.28.5)\n",
            "Requirement already satisfied: pytz>=2017.3 in /home/chris/.local/lib/python3.8/site-packages (from pandas->mplfinance==0.12.8b10) (2021.3)\n",
            "Requirement already satisfied: pycares>=3.0.0 in /home/chris/.local/lib/python3.8/site-packages (from aiodns>=1.1.1; python_version >= \"3.5.2\"->ccxt) (4.1.2)\n",
            "Requirement already satisfied: frozenlist>=1.1.1 in /home/chris/.local/lib/python3.8/site-packages (from aiohttp>=3.8; python_version >= \"3.5.2\"->ccxt) (1.2.0)\n",
            "Requirement already satisfied: async-timeout<5.0,>=4.0.0a3 in /home/chris/.local/lib/python3.8/site-packages (from aiohttp>=3.8; python_version >= \"3.5.2\"->ccxt) (4.0.2)\n",
            "Requirement already satisfied: multidict<7.0,>=4.5 in /home/chris/.local/lib/python3.8/site-packages (from aiohttp>=3.8; python_version >= \"3.5.2\"->ccxt) (5.2.0)\n",
            "Requirement already satisfied: charset-normalizer<3.0,>=2.0 in /home/chris/.local/lib/python3.8/site-packages (from aiohttp>=3.8; python_version >= \"3.5.2\"->ccxt) (2.0.10)\n",
            "Requirement already satisfied: aiosignal>=1.1.2 in /home/chris/.local/lib/python3.8/site-packages (from aiohttp>=3.8; python_version >= \"3.5.2\"->ccxt) (1.2.0)\n",
            "Requirement already satisfied: attrs>=17.3.0 in /usr/lib/python3/dist-packages (from aiohttp>=3.8; python_version >= \"3.5.2\"->ccxt) (19.3.0)\n",
            "Requirement already satisfied: idna>=2.0 in /usr/lib/python3/dist-packages (from yarl==1.7.2; python_version >= \"3.5.2\"->ccxt) (2.8)\n",
            "Requirement already satisfied: urllib3<1.27,>=1.21.1 in /usr/lib/python3/dist-packages (from requests>=2.18.4->ccxt) (1.25.8)\n",
            "Requirement already satisfied: cffi>=1.5.0 in /home/chris/.local/lib/python3.8/site-packages (from pycares>=3.0.0->aiodns>=1.1.1; python_version >= \"3.5.2\"->ccxt) (1.15.0)\n",
            "Requirement already satisfied: pycparser in /home/chris/.local/lib/python3.8/site-packages (from cffi>=1.5.0->pycares>=3.0.0->aiodns>=1.1.1; python_version >= \"3.5.2\"->ccxt) (2.21)\n",
            "Building wheels for collected packages: mplfinance\n",
            "  Building wheel for mplfinance (setup.py) ... \u001b[?25ldone\n",
            "\u001b[?25h  Created wheel for mplfinance: filename=mplfinance-0.12.8b10-py3-none-any.whl size=70315 sha256=67e804d0b44683f411dfd767f464f100935e04358315f499cac5fff05103cbcf\n",
            "  Stored in directory: /tmp/pip-ephem-wheel-cache-wu9dpgk9/wheels/7a/19/79/ca6b247407a3bdbf9008674616b262fd49f79b6324a5746057\n",
            "Successfully built mplfinance\n"
          ]
        }
      ],
      "source": [
        "#%%capture output\n",
        "!{sys.executable} -m pip install ccxt yfinance git+https://github.com/donbing/mplfinance.git\n",
        "import pandas as pd\n",
        "import sys\n",
        "import ccxt\n",
        "import mplfinance as mpf\n",
        "from matplotlib.pyplot import imshow\n",
        "import yfinance\n",
        "import pathlib\n",
        "import os"
      ]
    },
    {
      "cell_type": "code",
      "execution_count": 12,
      "metadata": {},
      "outputs": [],
      "source": [
        "from src.bitbot import BitBot\n",
        "from src.configuration.bitbot_files import use_config_dir\n",
        "from src.configuration.bitbot_config import load_config_ini"
      ]
    },
    {
      "cell_type": "markdown",
      "metadata": {},
      "source": [
        "### Load config files"
      ]
    },
    {
      "cell_type": "code",
      "execution_count": 13,
      "metadata": {},
      "outputs": [],
      "source": [
        "curdir = pathlib.Path(os.path.abspath('')).resolve()\n",
        "files = use_config_dir(curdir)\n",
        "config = load_config_ini(files)\n",
        "config.set('display', 'output', 'disk')\n",
        "config.set('display', 'resolution', '400,300')"
      ]
    },
    {
      "cell_type": "markdown",
      "metadata": {},
      "source": [
        "## Bitbot display output  "
      ]
    },
    {
      "cell_type": "code",
      "execution_count": 14,
      "metadata": {},
      "outputs": [
        {
          "data": {
            "image/png": "[encoded data removed]",
            "text/plain": [
              "<PIL.PngImagePlugin.PngImageFile image mode=RGBA size=385x277 at 0x7F1511B3CCD0>"
            ]
          },
          "metadata": {},
          "output_type": "display_data"
        }
      ],
      "source": [
        "app = BitBot(config, files)\n",
        "img  = app.display_chart()\n",
        "img.show()"
      ]
    },
    {
      "cell_type": "markdown",
      "metadata": {},
      "source": [
        "## Bitbot chart generation"
      ]
    },
    {
      "cell_type": "code",
      "execution_count": 15,
      "metadata": {},
      "outputs": [
        {
          "data": {
            "text/plain": [
              "<BTC/USD 1d candle data>"
            ]
          },
          "execution_count": 15,
          "metadata": {},
          "output_type": "execute_result"
        }
      ],
      "source": [
        "# fetch configured candle history\n",
        "from src.exchanges import crypto_exchanges\n",
        "exchange = crypto_exchanges.Exchange(config)\n",
        "chart_data = exchange.fetch_history()\n",
        "chart_data"
      ]
    },
    {
      "cell_type": "code",
      "execution_count": 16,
      "metadata": {},
      "outputs": [
        {
          "data": {
            "image/png": "[encoded data removed]",
            "text/plain": [
              "<PIL.PngImagePlugin.PngImageFile image mode=RGBA size=385x279 at 0x7F1511A050D0>"
            ]
          },
          "metadata": {},
          "output_type": "display_data"
        }
      ],
      "source": [
        "\n",
        "from src.drawing.mpf_plotted_chart import NewPlottedChart\n",
        "from src.display.picker import picker as display_picker\n",
        "import io\n",
        "from PIL import Image\n",
        "\n",
        "display = display_picker(config)\n",
        "chart = NewPlottedChart(config, display, files, chart_data)\n",
        "with io.BytesIO() as file_stream:\n",
        "    chart.write_to_stream(file_stream)\n",
        "    chart_image = Image.open(file_stream)\n",
        "    chart_image.show()"
      ]
    },
    {
      "cell_type": "code",
      "execution_count": 17,
      "metadata": {},
      "outputs": [
        {
          "data": {
            "image/png": "[encoded data removed]",
            "text/plain": [
              "<PIL.PngImagePlugin.PngImageFile image mode=RGBA size=385x279 at 0x7F151190DF10>"
            ]
          },
          "metadata": {},
          "output_type": "display_data"
        }
      ],
      "source": [
        "# plot chart and show image\n",
        "from src.drawing.market_chart import MarketChart\n",
        "from src.display.picker import picker as display_picker\n",
        "from PIL import Image\n",
        "import io\n",
        "\n",
        "display = display_picker(config)\n",
        "chart = MarketChart(config, display, files)\n",
        "\n",
        "with io.BytesIO() as file_stream:\n",
        "    chart.create_plot(chart_data).write_to_stream(file_stream)\n",
        "    chart_image = Image.open(file_stream)\n",
        "    chart_image.show()"
      ]
    },
    {
      "cell_type": "markdown",
      "metadata": {},
      "source": [
        "## MPF plot"
      ]
    },
    {
      "cell_type": "markdown",
      "metadata": {},
      "source": [
        "### Fetch Data"
      ]
    },
    {
      "cell_type": "code",
      "execution_count": 18,
      "metadata": {
        "id": "eN618pI5tNiT"
      },
      "outputs": [],
      "source": [
        "# load markets for selected exchange\n",
        "exchange = getattr(ccxt, 'bitmex')()\n",
        "mkts = exchange.loadMarkets()"
      ]
    },
    {
      "cell_type": "code",
      "execution_count": 19,
      "metadata": {
        "colab": {
          "base_uri": "https://localhost:8080/",
          "height": 175
        },
        "id": "9u0BXPm_tNiU",
        "outputId": "5aa5560e-5886-4bae-926e-e75310b6a341"
      },
      "outputs": [],
      "source": [
        "# fetch candles\n",
        "exchange_data = exchange.fetchOHLCV('BTC/USD', '5m', limit=40)\n",
        "# convert candles to dataframe\n",
        "df = pd.DataFrame(exchange_data)\n",
        "df.columns = [\"Date\", \"Open\", \"Low\", \"High\", \"Close\", \"Volume\"]\n",
        "df['Date'] = pd.to_datetime(df['Date'].astype('datetime64[ms]'))\n",
        "#df.index = pd.DatetimeIndex(df[\"Date\"].astype('datetime64[ms]'))\n",
        "df.set_index('Date', inplace=True)\n",
        "# df"
      ]
    },
    {
      "cell_type": "markdown",
      "metadata": {},
      "source": [
        "### Try to draw an attractive graph"
      ]
    },
    {
      "cell_type": "markdown",
      "metadata": {},
      "source": [
        "### 🛳️ imports"
      ]
    },
    {
      "cell_type": "code",
      "execution_count": 20,
      "metadata": {},
      "outputs": [],
      "source": [
        "import matplotlib\n",
        "from matplotlib  import pyplot as plt\n",
        "from matplotlib.ticker import EngFormatter\n",
        "matplotlib.use('Agg')\n",
        "import numpy \n",
        "display_size = (400,300)"
      ]
    },
    {
      "cell_type": "markdown",
      "metadata": {},
      "source": [
        "### ⏲️ select datetime format"
      ]
    },
    {
      "cell_type": "code",
      "execution_count": 21,
      "metadata": {},
      "outputs": [],
      "source": [
        "candle_time_delta = df.index.values[1] - df.index.values[0]\n",
        "if(candle_time_delta <= numpy.timedelta64(1,'h')):\n",
        "    format = '%H:%M'\n",
        "elif(candle_time_delta <= numpy.timedelta64(1,'D')): \n",
        "    format = '%b.%d'\n",
        "else:\n",
        "    format = '%b'"
      ]
    },
    {
      "cell_type": "markdown",
      "metadata": {},
      "source": [
        "### 📐 mpf style"
      ]
    },
    {
      "cell_type": "code",
      "execution_count": 22,
      "metadata": {},
      "outputs": [],
      "source": [
        "s = mpf.make_mpf_style(\n",
        "    marketcolors=mpf.make_marketcolors(\n",
        "        alpha=1.0,\n",
        "        up='black', down='red',\n",
        "        edge={'up': 'black', 'down': 'red'},  # 'none',\n",
        "        wick={'up': 'black', 'down': 'red'},\n",
        "        volume={'up': 'black', 'down': 'red'}\n",
        "    ),\n",
        "    base_mpl_style=[files.base_style, files.default_style],\n",
        "    mavcolors=['#1f77b4', '#ff7f0e', '#2ca02c'],\n",
        "    rc={}\n",
        ")"
      ]
    },
    {
      "cell_type": "markdown",
      "metadata": {},
      "source": [
        "### 📈 create plot figure"
      ]
    },
    {
      "cell_type": "code",
      "execution_count": 23,
      "metadata": {},
      "outputs": [],
      "source": [
        "fig, ax = mpf.plot(\n",
        "    df,\n",
        "    scale_width_adjustment=dict(volume=0.9, candle=0.7, lines=0.05),\n",
        "    update_width_config=dict(candle_linewidth=0.6),\n",
        "    returnfig=True,\n",
        "    type='candle',\n",
        "    # mav=(10, 20),\n",
        "    volume=False,\n",
        "    style=s,\n",
        "    tight_layout=True,\n",
        "    figsize=tuple(dim/100 for dim in display_size),\n",
        "    xrotation=0,\n",
        "    datetime_format=format,\n",
        ")"
      ]
    },
    {
      "cell_type": "markdown",
      "metadata": {},
      "source": [
        "### 🪓 customise axes"
      ]
    },
    {
      "cell_type": "code",
      "execution_count": 24,
      "metadata": {},
      "outputs": [],
      "source": [
        "\n",
        "for a in ax: \n",
        "    a.yaxis.set_major_formatter(EngFormatter(sep=''))\n",
        "    a.autoscale(enable=True, axis=\"x\", tight=True)\n",
        "    a.autoscale(enable=True, axis=\"y\", tight=True)\n",
        "    a.margins(0.1, 0.2)\n",
        "    _ = a.set_ylabel(\"\")\n",
        "    _ = a.set_xlabel(\"\")\n",
        "\n",
        "    # for label in a.yaxis.get_ticklabels():\n",
        "    #     label.set_horizontalalignment('left')\n",
        "        \n",
        "    # for label in a.xaxis.get_ticklabels():\n",
        "    #     label.set_verticalalignment('bottom')\n",
        "    #a.tick_params(rotation = 45, ha='left')"
      ]
    },
    {
      "cell_type": "markdown",
      "metadata": {},
      "source": [
        "### Output"
      ]
    },
    {
      "cell_type": "code",
      "execution_count": 28,
      "metadata": {},
      "outputs": [
        {
          "data": {
            "image/png": "[encoded data removed]",
            "text/plain": [
              "<PIL.PngImagePlugin.PngImageFile image mode=RGBA size=400x277 at 0x7F1511A5B310>"
            ]
          },
          "metadata": {},
          "output_type": "display_data"
        }
      ],
      "source": [
        "with io.BytesIO() as file_stream:\n",
        "    fig.savefig(file_stream, dpi=fig.dpi, bbox_inches='tight', pad_inches=0.0)\n",
        "    chart_image = Image.open(file_stream)\n",
        "    chart_image.show()"
      ]
    }
  ],
  "metadata": {
    "colab": {
      "collapsed_sections": [],
      "name": "Copy of external_axes.ipynb",
      "provenance": []
    },
    "kernelspec": {
      "display_name": "Python 3",
      "language": "python",
      "name": "python3"
    },
    "language_info": {
      "codemirror_mode": {
        "name": "ipython",
        "version": 3
      },
      "file_extension": ".py",
      "mimetype": "text/x-python",
      "name": "python",
      "nbconvert_exporter": "python",
      "pygments_lexer": "ipython3",
      "version": "3.8.10"
    }
  },
  "nbformat": 4,
  "nbformat_minor": 0
}
