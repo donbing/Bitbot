{
 "cells": [
  {
   "cell_type": "markdown",
   "metadata": {},
   "source": [
    "# Bitbot"
   ]
  },
  {
   "cell_type": "markdown",
   "metadata": {},
   "source": [
    "## Setup"
   ]
  },
  {
   "cell_type": "code",
   "execution_count": 1,
   "metadata": {
    "id": "TGhh4E4ctNiS"
   },
   "outputs": [],
   "source": [
    "# This allows multiple outputs from a single jupyter notebook cell:\n",
    "from IPython.core.interactiveshell import InteractiveShell\n",
    "InteractiveShell.ast_node_interactivity = \"all\""
   ]
  },
  {
   "cell_type": "code",
   "execution_count": 38,
   "metadata": {
    "colab": {
     "base_uri": "https://localhost:8080/"
    },
    "id": "gohAI0ditNiT",
    "outputId": "49b29a80-c7e0-42a4-b407-a02f62d744a5"
   },
   "outputs": [],
   "source": [
    "%%capture output\n",
    "# Import external modules\n",
    "!{sys.executable} -m pip install ccxt yfinance git+https://github.com/donbing/mplfinance.git\n",
    "import pandas as pd\n",
    "import sys\n",
    "import ccxt\n",
    "import mplfinance as mpf\n",
    "from matplotlib.pyplot import imshow\n",
    "import yfinance\n",
    "import pathlib\n",
    "import os"
   ]
  },
  {
   "cell_type": "code",
   "execution_count": 45,
   "metadata": {},
   "outputs": [],
   "source": [
    "# Import local modules\n",
    "from src.bitbot import BitBot\n",
    "from src.configuration.bitbot_files import use_config_dir\n",
    "from src.configuration.bitbot_config import load_config_ini"
   ]
  },
  {
   "cell_type": "markdown",
   "metadata": {},
   "source": [
    "### Load config files"
   ]
  },
  {
   "cell_type": "code",
   "execution_count": 46,
   "metadata": {},
   "outputs": [],
   "source": [
    "curdir = pathlib.Path(os.path.abspath('')).resolve()\n",
    "files = use_config_dir(curdir)\n",
    "config = load_config_ini(files)\n",
    "config.set('display', 'output', 'disk')\n",
    "config.set('display', 'resolution', '400,300')\n"
   ]
  },
  {
   "cell_type": "markdown",
   "metadata": {},
   "source": [
    "## Bitbot display output  "
   ]
  },
  {
   "cell_type": "code",
   "execution_count": 47,
   "metadata": {},
   "outputs": [
    {
     "data": {
      "image/png": "[encoded data removed]",
      "text/plain": [
       "<PIL.PngImagePlugin.PngImageFile image mode=RGBA size=400x300>"
      ]
     },
     "metadata": {},
     "output_type": "display_data"
    }
   ],
   "source": [
    "app = BitBot(config, files)\n",
    "img = app.display_chart()\n",
    "img.show()"
   ]
  },
  {
   "cell_type": "markdown",
   "metadata": {},
   "source": [
    "## Chart generation"
   ]
  },
  {
   "cell_type": "code",
   "execution_count": 49,
   "metadata": {},
   "outputs": [
    {
     "data": {
      "text/html": [
       "<div>\n",
       "<style scoped>\n",
       "    .dataframe tbody tr th:only-of-type {\n",
       "        vertical-align: middle;\n",
       "    }\n",
       "\n",
       "    .dataframe tbody tr th {\n",
       "        vertical-align: top;\n",
       "    }\n",
       "\n",
       "    .dataframe thead th {\n",
       "        text-align: right;\n",
       "    }\n",
       "</style>\n",
       "<table border=\"1\" class=\"dataframe\">\n",
       "  <thead>\n",
       "    <tr style=\"text-align: right;\">\n",
       "      <th></th>\n",
       "      <th>0</th>\n",
       "      <th>1</th>\n",
       "      <th>2</th>\n",
       "      <th>3</th>\n",
       "      <th>4</th>\n",
       "      <th>5</th>\n",
       "    </tr>\n",
       "  </thead>\n",
       "  <tbody>\n",
       "    <tr>\n",
       "      <th>0</th>\n",
       "      <td>2024-12-14 19:15:00</td>\n",
       "      <td>100854.5</td>\n",
       "      <td>100854.5</td>\n",
       "      <td>100854.5</td>\n",
       "      <td>100854.5</td>\n",
       "      <td>0.0000</td>\n",
       "    </tr>\n",
       "    <tr>\n",
       "      <th>1</th>\n",
       "      <td>2024-12-14 19:20:00</td>\n",
       "      <td>100854.5</td>\n",
       "      <td>100854.5</td>\n",
       "      <td>100854.5</td>\n",
       "      <td>100854.5</td>\n",
       "      <td>0.0000</td>\n",
       "    </tr>\n",
       "    <tr>\n",
       "      <th>2</th>\n",
       "      <td>2024-12-14 19:25:00</td>\n",
       "      <td>100854.5</td>\n",
       "      <td>100854.5</td>\n",
       "      <td>100854.5</td>\n",
       "      <td>100854.5</td>\n",
       "      <td>0.0000</td>\n",
       "    </tr>\n",
       "    <tr>\n",
       "      <th>3</th>\n",
       "      <td>2024-12-14 19:30:00</td>\n",
       "      <td>100854.5</td>\n",
       "      <td>100854.5</td>\n",
       "      <td>100854.5</td>\n",
       "      <td>100854.5</td>\n",
       "      <td>0.0000</td>\n",
       "    </tr>\n",
       "    <tr>\n",
       "      <th>4</th>\n",
       "      <td>2024-12-14 19:35:00</td>\n",
       "      <td>100854.5</td>\n",
       "      <td>100854.5</td>\n",
       "      <td>100854.5</td>\n",
       "      <td>100854.5</td>\n",
       "      <td>0.0000</td>\n",
       "    </tr>\n",
       "    <tr>\n",
       "      <th>5</th>\n",
       "      <td>2024-12-14 19:40:00</td>\n",
       "      <td>100854.5</td>\n",
       "      <td>100854.5</td>\n",
       "      <td>100854.5</td>\n",
       "      <td>100854.5</td>\n",
       "      <td>0.0000</td>\n",
       "    </tr>\n",
       "    <tr>\n",
       "      <th>6</th>\n",
       "      <td>2024-12-14 19:45:00</td>\n",
       "      <td>100854.5</td>\n",
       "      <td>100854.5</td>\n",
       "      <td>100854.5</td>\n",
       "      <td>100854.5</td>\n",
       "      <td>0.0000</td>\n",
       "    </tr>\n",
       "    <tr>\n",
       "      <th>7</th>\n",
       "      <td>2024-12-14 19:50:00</td>\n",
       "      <td>100854.5</td>\n",
       "      <td>100854.5</td>\n",
       "      <td>100854.5</td>\n",
       "      <td>100854.5</td>\n",
       "      <td>0.0000</td>\n",
       "    </tr>\n",
       "    <tr>\n",
       "      <th>8</th>\n",
       "      <td>2024-12-14 19:55:00</td>\n",
       "      <td>100854.5</td>\n",
       "      <td>100854.5</td>\n",
       "      <td>100854.5</td>\n",
       "      <td>100854.5</td>\n",
       "      <td>0.0000</td>\n",
       "    </tr>\n",
       "    <tr>\n",
       "      <th>9</th>\n",
       "      <td>2024-12-14 20:00:00</td>\n",
       "      <td>100854.5</td>\n",
       "      <td>100854.5</td>\n",
       "      <td>100854.5</td>\n",
       "      <td>100854.5</td>\n",
       "      <td>0.0000</td>\n",
       "    </tr>\n",
       "    <tr>\n",
       "      <th>10</th>\n",
       "      <td>2024-12-14 20:05:00</td>\n",
       "      <td>100854.5</td>\n",
       "      <td>100854.5</td>\n",
       "      <td>100854.5</td>\n",
       "      <td>100854.5</td>\n",
       "      <td>0.0000</td>\n",
       "    </tr>\n",
       "    <tr>\n",
       "      <th>11</th>\n",
       "      <td>2024-12-14 20:10:00</td>\n",
       "      <td>100854.5</td>\n",
       "      <td>100854.5</td>\n",
       "      <td>100854.5</td>\n",
       "      <td>100854.5</td>\n",
       "      <td>0.0000</td>\n",
       "    </tr>\n",
       "    <tr>\n",
       "      <th>12</th>\n",
       "      <td>2024-12-14 20:15:00</td>\n",
       "      <td>100854.5</td>\n",
       "      <td>100854.5</td>\n",
       "      <td>100854.5</td>\n",
       "      <td>100854.5</td>\n",
       "      <td>0.0000</td>\n",
       "    </tr>\n",
       "    <tr>\n",
       "      <th>13</th>\n",
       "      <td>2024-12-14 20:20:00</td>\n",
       "      <td>100854.5</td>\n",
       "      <td>100854.5</td>\n",
       "      <td>100854.5</td>\n",
       "      <td>100854.5</td>\n",
       "      <td>0.0000</td>\n",
       "    </tr>\n",
       "    <tr>\n",
       "      <th>14</th>\n",
       "      <td>2024-12-14 20:25:00</td>\n",
       "      <td>100854.5</td>\n",
       "      <td>100854.5</td>\n",
       "      <td>100854.5</td>\n",
       "      <td>100854.5</td>\n",
       "      <td>0.0000</td>\n",
       "    </tr>\n",
       "    <tr>\n",
       "      <th>15</th>\n",
       "      <td>2024-12-14 20:30:00</td>\n",
       "      <td>100854.5</td>\n",
       "      <td>101019.0</td>\n",
       "      <td>101019.0</td>\n",
       "      <td>101019.0</td>\n",
       "      <td>0.0101</td>\n",
       "    </tr>\n",
       "    <tr>\n",
       "      <th>16</th>\n",
       "      <td>2024-12-14 20:35:00</td>\n",
       "      <td>101019.0</td>\n",
       "      <td>100980.5</td>\n",
       "      <td>100980.5</td>\n",
       "      <td>100980.5</td>\n",
       "      <td>0.0107</td>\n",
       "    </tr>\n",
       "    <tr>\n",
       "      <th>17</th>\n",
       "      <td>2024-12-14 20:40:00</td>\n",
       "      <td>100980.5</td>\n",
       "      <td>100980.5</td>\n",
       "      <td>100980.5</td>\n",
       "      <td>100980.5</td>\n",
       "      <td>0.0000</td>\n",
       "    </tr>\n",
       "    <tr>\n",
       "      <th>18</th>\n",
       "      <td>2024-12-14 20:45:00</td>\n",
       "      <td>100980.5</td>\n",
       "      <td>100980.5</td>\n",
       "      <td>100980.5</td>\n",
       "      <td>100980.5</td>\n",
       "      <td>0.0000</td>\n",
       "    </tr>\n",
       "    <tr>\n",
       "      <th>19</th>\n",
       "      <td>2024-12-14 20:50:00</td>\n",
       "      <td>100980.5</td>\n",
       "      <td>100980.5</td>\n",
       "      <td>100980.5</td>\n",
       "      <td>100980.5</td>\n",
       "      <td>0.0000</td>\n",
       "    </tr>\n",
       "    <tr>\n",
       "      <th>20</th>\n",
       "      <td>2024-12-14 20:55:00</td>\n",
       "      <td>100980.5</td>\n",
       "      <td>100980.5</td>\n",
       "      <td>100980.5</td>\n",
       "      <td>100980.5</td>\n",
       "      <td>0.0000</td>\n",
       "    </tr>\n",
       "    <tr>\n",
       "      <th>21</th>\n",
       "      <td>2024-12-14 21:00:00</td>\n",
       "      <td>100980.5</td>\n",
       "      <td>100980.5</td>\n",
       "      <td>100980.5</td>\n",
       "      <td>100980.5</td>\n",
       "      <td>0.0000</td>\n",
       "    </tr>\n",
       "    <tr>\n",
       "      <th>22</th>\n",
       "      <td>2024-12-14 21:05:00</td>\n",
       "      <td>100980.5</td>\n",
       "      <td>100980.5</td>\n",
       "      <td>100980.5</td>\n",
       "      <td>100980.5</td>\n",
       "      <td>0.0000</td>\n",
       "    </tr>\n",
       "    <tr>\n",
       "      <th>23</th>\n",
       "      <td>2024-12-14 21:10:00</td>\n",
       "      <td>100980.5</td>\n",
       "      <td>100980.5</td>\n",
       "      <td>100980.5</td>\n",
       "      <td>100980.5</td>\n",
       "      <td>0.0000</td>\n",
       "    </tr>\n",
       "    <tr>\n",
       "      <th>24</th>\n",
       "      <td>2024-12-14 21:15:00</td>\n",
       "      <td>100980.5</td>\n",
       "      <td>100980.5</td>\n",
       "      <td>100980.5</td>\n",
       "      <td>100980.5</td>\n",
       "      <td>0.0000</td>\n",
       "    </tr>\n",
       "    <tr>\n",
       "      <th>25</th>\n",
       "      <td>2024-12-14 21:20:00</td>\n",
       "      <td>100980.5</td>\n",
       "      <td>100980.5</td>\n",
       "      <td>100980.5</td>\n",
       "      <td>100980.5</td>\n",
       "      <td>0.0000</td>\n",
       "    </tr>\n",
       "    <tr>\n",
       "      <th>26</th>\n",
       "      <td>2024-12-14 21:25:00</td>\n",
       "      <td>100980.5</td>\n",
       "      <td>100980.5</td>\n",
       "      <td>100980.5</td>\n",
       "      <td>100980.5</td>\n",
       "      <td>0.0000</td>\n",
       "    </tr>\n",
       "    <tr>\n",
       "      <th>27</th>\n",
       "      <td>2024-12-14 21:30:00</td>\n",
       "      <td>100980.5</td>\n",
       "      <td>100980.5</td>\n",
       "      <td>100980.5</td>\n",
       "      <td>100980.5</td>\n",
       "      <td>0.0000</td>\n",
       "    </tr>\n",
       "    <tr>\n",
       "      <th>28</th>\n",
       "      <td>2024-12-14 21:35:00</td>\n",
       "      <td>100980.5</td>\n",
       "      <td>100980.5</td>\n",
       "      <td>100980.5</td>\n",
       "      <td>100980.5</td>\n",
       "      <td>0.0000</td>\n",
       "    </tr>\n",
       "    <tr>\n",
       "      <th>29</th>\n",
       "      <td>2024-12-14 21:40:00</td>\n",
       "      <td>100980.5</td>\n",
       "      <td>100980.5</td>\n",
       "      <td>100980.5</td>\n",
       "      <td>100980.5</td>\n",
       "      <td>0.0000</td>\n",
       "    </tr>\n",
       "    <tr>\n",
       "      <th>30</th>\n",
       "      <td>2024-12-14 21:45:00</td>\n",
       "      <td>100980.5</td>\n",
       "      <td>100980.5</td>\n",
       "      <td>100980.5</td>\n",
       "      <td>100980.5</td>\n",
       "      <td>0.0000</td>\n",
       "    </tr>\n",
       "    <tr>\n",
       "      <th>31</th>\n",
       "      <td>2024-12-14 21:50:00</td>\n",
       "      <td>100980.5</td>\n",
       "      <td>100980.5</td>\n",
       "      <td>100980.5</td>\n",
       "      <td>100980.5</td>\n",
       "      <td>0.0000</td>\n",
       "    </tr>\n",
       "    <tr>\n",
       "      <th>32</th>\n",
       "      <td>2024-12-14 21:55:00</td>\n",
       "      <td>100980.5</td>\n",
       "      <td>100980.5</td>\n",
       "      <td>100980.5</td>\n",
       "      <td>100980.5</td>\n",
       "      <td>0.0000</td>\n",
       "    </tr>\n",
       "    <tr>\n",
       "      <th>33</th>\n",
       "      <td>2024-12-14 22:00:00</td>\n",
       "      <td>100980.5</td>\n",
       "      <td>100980.5</td>\n",
       "      <td>100980.5</td>\n",
       "      <td>100980.5</td>\n",
       "      <td>0.0000</td>\n",
       "    </tr>\n",
       "    <tr>\n",
       "      <th>34</th>\n",
       "      <td>2024-12-14 22:05:00</td>\n",
       "      <td>100980.5</td>\n",
       "      <td>100980.5</td>\n",
       "      <td>100980.5</td>\n",
       "      <td>100980.5</td>\n",
       "      <td>0.0000</td>\n",
       "    </tr>\n",
       "    <tr>\n",
       "      <th>35</th>\n",
       "      <td>2024-12-14 22:10:00</td>\n",
       "      <td>100980.5</td>\n",
       "      <td>100980.5</td>\n",
       "      <td>100980.5</td>\n",
       "      <td>100980.5</td>\n",
       "      <td>0.0000</td>\n",
       "    </tr>\n",
       "    <tr>\n",
       "      <th>36</th>\n",
       "      <td>2024-12-14 22:15:00</td>\n",
       "      <td>100980.5</td>\n",
       "      <td>100980.5</td>\n",
       "      <td>100980.5</td>\n",
       "      <td>100980.5</td>\n",
       "      <td>0.0000</td>\n",
       "    </tr>\n",
       "    <tr>\n",
       "      <th>37</th>\n",
       "      <td>2024-12-14 22:20:00</td>\n",
       "      <td>100980.5</td>\n",
       "      <td>100980.5</td>\n",
       "      <td>100980.5</td>\n",
       "      <td>100980.5</td>\n",
       "      <td>0.0000</td>\n",
       "    </tr>\n",
       "    <tr>\n",
       "      <th>38</th>\n",
       "      <td>2024-12-14 22:25:00</td>\n",
       "      <td>100980.5</td>\n",
       "      <td>100980.5</td>\n",
       "      <td>100980.5</td>\n",
       "      <td>100980.5</td>\n",
       "      <td>0.0000</td>\n",
       "    </tr>\n",
       "    <tr>\n",
       "      <th>39</th>\n",
       "      <td>2024-12-14 22:30:00</td>\n",
       "      <td>100980.5</td>\n",
       "      <td>100980.5</td>\n",
       "      <td>100980.5</td>\n",
       "      <td>100980.5</td>\n",
       "      <td>0.0000</td>\n",
       "    </tr>\n",
       "  </tbody>\n",
       "</table>\n",
       "</div>"
      ],
      "text/plain": [
       "                     0         1         2         3         4       5\n",
       "0  2024-12-14 19:15:00  100854.5  100854.5  100854.5  100854.5  0.0000\n",
       "1  2024-12-14 19:20:00  100854.5  100854.5  100854.5  100854.5  0.0000\n",
       "2  2024-12-14 19:25:00  100854.5  100854.5  100854.5  100854.5  0.0000\n",
       "3  2024-12-14 19:30:00  100854.5  100854.5  100854.5  100854.5  0.0000\n",
       "4  2024-12-14 19:35:00  100854.5  100854.5  100854.5  100854.5  0.0000\n",
       "5  2024-12-14 19:40:00  100854.5  100854.5  100854.5  100854.5  0.0000\n",
       "6  2024-12-14 19:45:00  100854.5  100854.5  100854.5  100854.5  0.0000\n",
       "7  2024-12-14 19:50:00  100854.5  100854.5  100854.5  100854.5  0.0000\n",
       "8  2024-12-14 19:55:00  100854.5  100854.5  100854.5  100854.5  0.0000\n",
       "9  2024-12-14 20:00:00  100854.5  100854.5  100854.5  100854.5  0.0000\n",
       "10 2024-12-14 20:05:00  100854.5  100854.5  100854.5  100854.5  0.0000\n",
       "11 2024-12-14 20:10:00  100854.5  100854.5  100854.5  100854.5  0.0000\n",
       "12 2024-12-14 20:15:00  100854.5  100854.5  100854.5  100854.5  0.0000\n",
       "13 2024-12-14 20:20:00  100854.5  100854.5  100854.5  100854.5  0.0000\n",
       "14 2024-12-14 20:25:00  100854.5  100854.5  100854.5  100854.5  0.0000\n",
       "15 2024-12-14 20:30:00  100854.5  101019.0  101019.0  101019.0  0.0101\n",
       "16 2024-12-14 20:35:00  101019.0  100980.5  100980.5  100980.5  0.0107\n",
       "17 2024-12-14 20:40:00  100980.5  100980.5  100980.5  100980.5  0.0000\n",
       "18 2024-12-14 20:45:00  100980.5  100980.5  100980.5  100980.5  0.0000\n",
       "19 2024-12-14 20:50:00  100980.5  100980.5  100980.5  100980.5  0.0000\n",
       "20 2024-12-14 20:55:00  100980.5  100980.5  100980.5  100980.5  0.0000\n",
       "21 2024-12-14 21:00:00  100980.5  100980.5  100980.5  100980.5  0.0000\n",
       "22 2024-12-14 21:05:00  100980.5  100980.5  100980.5  100980.5  0.0000\n",
       "23 2024-12-14 21:10:00  100980.5  100980.5  100980.5  100980.5  0.0000\n",
       "24 2024-12-14 21:15:00  100980.5  100980.5  100980.5  100980.5  0.0000\n",
       "25 2024-12-14 21:20:00  100980.5  100980.5  100980.5  100980.5  0.0000\n",
       "26 2024-12-14 21:25:00  100980.5  100980.5  100980.5  100980.5  0.0000\n",
       "27 2024-12-14 21:30:00  100980.5  100980.5  100980.5  100980.5  0.0000\n",
       "28 2024-12-14 21:35:00  100980.5  100980.5  100980.5  100980.5  0.0000\n",
       "29 2024-12-14 21:40:00  100980.5  100980.5  100980.5  100980.5  0.0000\n",
       "30 2024-12-14 21:45:00  100980.5  100980.5  100980.5  100980.5  0.0000\n",
       "31 2024-12-14 21:50:00  100980.5  100980.5  100980.5  100980.5  0.0000\n",
       "32 2024-12-14 21:55:00  100980.5  100980.5  100980.5  100980.5  0.0000\n",
       "33 2024-12-14 22:00:00  100980.5  100980.5  100980.5  100980.5  0.0000\n",
       "34 2024-12-14 22:05:00  100980.5  100980.5  100980.5  100980.5  0.0000\n",
       "35 2024-12-14 22:10:00  100980.5  100980.5  100980.5  100980.5  0.0000\n",
       "36 2024-12-14 22:15:00  100980.5  100980.5  100980.5  100980.5  0.0000\n",
       "37 2024-12-14 22:20:00  100980.5  100980.5  100980.5  100980.5  0.0000\n",
       "38 2024-12-14 22:25:00  100980.5  100980.5  100980.5  100980.5  0.0000\n",
       "39 2024-12-14 22:30:00  100980.5  100980.5  100980.5  100980.5  0.0000"
      ]
     },
     "execution_count": 49,
     "metadata": {},
     "output_type": "execute_result"
    }
   ],
   "source": [
    "# fetch configured candle history\n",
    "from src.exchanges import crypto_exchanges\n",
    "\n",
    "exchange = crypto_exchanges.Exchange(config)\n",
    "chart_data = exchange.fetch_history()\n",
    "import pandas as pd\n",
    "pd.DataFrame(chart_data.candle_data)"
   ]
  },
  {
   "cell_type": "code",
   "execution_count": 50,
   "metadata": {},
   "outputs": [
    {
     "data": {
      "image/png": "[encoded data removed]",
      "text/plain": [
       "<PIL.PngImagePlugin.PngImageFile image mode=RGBA size=400x300>"
      ]
     },
     "metadata": {},
     "output_type": "display_data"
    }
   ],
   "source": [
    "\n",
    "from src.drawing.mpf_plotted_chart import NewPlottedChart\n",
    "from src.display.picker import picker as display_picker\n",
    "import io\n",
    "from PIL import Image\n",
    "\n",
    "display = display_picker(config)\n",
    "chart = NewPlottedChart(config, display, files, chart_data)\n",
    "with io.BytesIO() as file_stream:\n",
    "    chart.write_to_stream(file_stream)\n",
    "    chart_image = Image.open(file_stream)\n",
    "    chart_image.show()"
   ]
  },
  {
   "cell_type": "code",
   "execution_count": 8,
   "metadata": {},
   "outputs": [
    {
     "data": {
      "image/png": "[encoded data removed]",
      "text/plain": [
       "<PIL.PngImagePlugin.PngImageFile image mode=RGBA size=385x279 at 0x7EFD19912850>"
      ]
     },
     "metadata": {},
     "output_type": "display_data"
    }
   ],
   "source": [
    "# plot chart and show image\n",
    "from src.drawing.market_chart import MarketChart\n",
    "from src.display.picker import picker as display_picker\n",
    "from PIL import Image\n",
    "import io\n",
    "\n",
    "display = display_picker(config)\n",
    "chart = MarketChart(config, display, files)\n",
    "\n",
    "with io.BytesIO() as file_stream:\n",
    "    chart.create_plot(chart_data).write_to_stream(file_stream)\n",
    "    chart_image = Image.open(file_stream)\n",
    "    chart_image.show()"
   ]
  },
  {
   "cell_type": "markdown",
   "metadata": {},
   "source": [
    "## MPF plot"
   ]
  },
  {
   "cell_type": "markdown",
   "metadata": {},
   "source": [
    "### Fetch Data"
   ]
  },
  {
   "cell_type": "code",
   "execution_count": null,
   "metadata": {
    "id": "eN618pI5tNiT"
   },
   "outputs": [],
   "source": [
    "# load markets for selected exchange\n",
    "exchange = getattr(ccxt, 'bitmex')()\n",
    "mkts = exchange.loadMarkets()"
   ]
  },
  {
   "cell_type": "code",
   "execution_count": null,
   "metadata": {
    "colab": {
     "base_uri": "https://localhost:8080/",
     "height": 175
    },
    "id": "9u0BXPm_tNiU",
    "outputId": "5aa5560e-5886-4bae-926e-e75310b6a341"
   },
   "outputs": [],
   "source": [
    "# fetch candles\n",
    "exchange_data = exchange.fetchOHLCV('BTC/USD', '5m', limit=40)\n",
    "# convert candles to dataframe\n",
    "df = pd.DataFrame(exchange_data)\n",
    "df.columns = [\"Date\", \"Open\", \"Low\", \"High\", \"Close\", \"Volume\"]\n",
    "df['Date'] = pd.to_datetime(df['Date'].astype('datetime64[ms]'))\n",
    "#df.index = pd.DatetimeIndex(df[\"Date\"].astype('datetime64[ms]'))\n",
    "df.set_index('Date', inplace=True)\n",
    "# df"
   ]
  },
  {
   "cell_type": "markdown",
   "metadata": {},
   "source": [
    "### Try to draw an attractive graph"
   ]
  },
  {
   "cell_type": "markdown",
   "metadata": {},
   "source": [
    "### 🛳️ imports"
   ]
  },
  {
   "cell_type": "code",
   "execution_count": 11,
   "metadata": {},
   "outputs": [],
   "source": [
    "import matplotlib\n",
    "from matplotlib  import pyplot as plt\n",
    "from matplotlib.ticker import EngFormatter\n",
    "matplotlib.use('Agg')\n",
    "import numpy \n",
    "display_size = (400,300)"
   ]
  },
  {
   "cell_type": "markdown",
   "metadata": {},
   "source": [
    "### ⏲️ select datetime format"
   ]
  },
  {
   "cell_type": "code",
   "execution_count": 12,
   "metadata": {},
   "outputs": [],
   "source": [
    "candle_time_delta = df.index.values[1] - df.index.values[0]\n",
    "if(candle_time_delta <= numpy.timedelta64(1,'h')):\n",
    "    format = '%H:%M'\n",
    "elif(candle_time_delta <= numpy.timedelta64(1,'D')): \n",
    "    format = '%b.%d'\n",
    "else:\n",
    "    format = '%b'"
   ]
  },
  {
   "cell_type": "markdown",
   "metadata": {},
   "source": [
    "### 📐 mpf style"
   ]
  },
  {
   "cell_type": "code",
   "execution_count": 13,
   "metadata": {},
   "outputs": [],
   "source": [
    "s = mpf.make_mpf_style(\n",
    "    marketcolors=mpf.make_marketcolors(\n",
    "        alpha=1.0,\n",
    "        up='black', down='red',\n",
    "        edge={'up': 'black', 'down': 'red'},  # 'none',\n",
    "        wick={'up': 'black', 'down': 'red'},\n",
    "        volume={'up': 'black', 'down': 'red'}\n",
    "    ),\n",
    "    base_mpl_style=[files.base_style, files.default_style],\n",
    "    mavcolors=['#1f77b4', '#ff7f0e', '#2ca02c'],\n",
    "    rc={}\n",
    ")"
   ]
  },
  {
   "cell_type": "markdown",
   "metadata": {},
   "source": [
    "### 📈 create plot figure"
   ]
  },
  {
   "cell_type": "code",
   "execution_count": 14,
   "metadata": {},
   "outputs": [],
   "source": [
    "fig, ax = mpf.plot(\n",
    "    df,\n",
    "    scale_width_adjustment=dict(volume=0.9, candle=0.7, lines=0.05),\n",
    "    update_width_config=dict(candle_linewidth=0.6),\n",
    "    returnfig=True,\n",
    "    type='candle',\n",
    "    # mav=(10, 20),\n",
    "    volume=False,\n",
    "    style=s,\n",
    "    tight_layout=True,\n",
    "    figsize=tuple(dim/100 for dim in display_size),\n",
    "    xrotation=0,\n",
    "    datetime_format=format,\n",
    ")"
   ]
  },
  {
   "cell_type": "markdown",
   "metadata": {},
   "source": [
    "### 🪓 customise axes"
   ]
  },
  {
   "cell_type": "code",
   "execution_count": 15,
   "metadata": {},
   "outputs": [],
   "source": [
    "\n",
    "for a in ax: \n",
    "    a.yaxis.set_major_formatter(EngFormatter(sep=''))\n",
    "    a.autoscale(enable=True, axis=\"x\", tight=True)\n",
    "    a.autoscale(enable=True, axis=\"y\", tight=True)\n",
    "    a.margins(0.1, 0.2)\n",
    "    _ = a.set_ylabel(\"\")\n",
    "    _ = a.set_xlabel(\"\")\n",
    "\n",
    "    # for label in a.yaxis.get_ticklabels():\n",
    "    #     label.set_horizontalalignment('left')\n",
    "        \n",
    "    # for label in a.xaxis.get_ticklabels():\n",
    "    #     label.set_verticalalignment('bottom')\n",
    "    #a.tick_params(rotation = 45, ha='left')"
   ]
  },
  {
   "cell_type": "markdown",
   "metadata": {},
   "source": [
    "### Output"
   ]
  },
  {
   "cell_type": "code",
   "execution_count": 16,
   "metadata": {},
   "outputs": [
    {
     "data": {
      "image/png": "[encoded data removed]",
      "text/plain": [
       "<PIL.PngImagePlugin.PngImageFile image mode=RGBA size=400x277 at 0x7EFD178357C0>"
      ]
     },
     "metadata": {},
     "output_type": "display_data"
    }
   ],
   "source": [
    "with io.BytesIO() as file_stream:\n",
    "    fig.savefig(file_stream, dpi=fig.dpi, bbox_inches='tight', pad_inches=0.0)\n",
    "    chart_image = Image.open(file_stream)\n",
    "    chart_image.show()"
   ]
  }
 ],
 "metadata": {
  "colab": {
   "collapsed_sections": [],
   "name": "Copy of external_axes.ipynb",
   "provenance": []
  },
  "kernelspec": {
   "display_name": "Python 3",
   "language": "python",
   "name": "python3"
  },
  "language_info": {
   "codemirror_mode": {
    "name": "ipython",
    "version": 3
   },
   "file_extension": ".py",
   "mimetype": "text/x-python",
   "name": "python",
   "nbconvert_exporter": "python",
   "pygments_lexer": "ipython3",
   "version": "3.10.12"
  }
 },
 "nbformat": 4,
 "nbformat_minor": 0
}
