{
 "cells": [
  {
   "cell_type": "markdown",
   "metadata": {},
   "source": [
    "# Bitbot"
   ]
  },
  {
   "cell_type": "markdown",
   "metadata": {},
   "source": [
    "## Setup"
   ]
  },
  {
   "cell_type": "code",
   "execution_count": 1,
   "metadata": {
    "id": "TGhh4E4ctNiS"
   },
   "outputs": [],
   "source": [
    "# This allows multiple outputs from a single jupyter notebook cell:\n",
    "from IPython.core.interactiveshell import InteractiveShell\n",
    "InteractiveShell.ast_node_interactivity = \"all\""
   ]
  },
  {
   "cell_type": "code",
   "execution_count": 7,
   "metadata": {
    "colab": {
     "base_uri": "https://localhost:8080/"
    },
    "id": "gohAI0ditNiT",
    "outputId": "49b29a80-c7e0-42a4-b407-a02f62d744a5"
   },
   "outputs": [],
   "source": [
    "%%capture output\n",
    "# Import external modules\n",
    "!{sys.executable} -m pip install ccxt yfinance git+https://github.com/donbing/mplfinance.git\n",
    "import pandas as pd\n",
    "import sys\n",
    "import ccxt\n",
    "import mplfinance as mpf\n",
    "from matplotlib.pyplot import imshow\n",
    "import yfinance\n",
    "import pathlib\n",
    "import os"
   ]
  },
  {
   "cell_type": "code",
   "execution_count": 8,
   "metadata": {},
   "outputs": [],
   "source": [
    "# Import local modules\n",
    "from src.bitbot import BitBot\n",
    "from src.configuration.bitbot_files import use_config_dir\n",
    "from src.configuration.bitbot_config import load_config_ini"
   ]
  },
  {
   "cell_type": "markdown",
   "metadata": {},
   "source": [
    "### Load config files"
   ]
  },
  {
   "cell_type": "code",
   "execution_count": 9,
   "metadata": {},
   "outputs": [],
   "source": [
    "curdir = pathlib.Path(os.path.abspath('')).resolve()\n",
    "files = use_config_dir(curdir)\n",
    "config = load_config_ini(files)\n",
    "config.set('display', 'output', 'disk')\n",
    "config.set('display', 'resolution', '400,300')"
   ]
  },
  {
   "cell_type": "markdown",
   "metadata": {},
   "source": [
    "## Bitbot display output  "
   ]
  },
  {
   "cell_type": "code",
   "execution_count": 10,
   "metadata": {},
   "outputs": [
    {
     "data": {
      "image/png": "[encoded data removed]",
      "text/plain": [
       "<PIL.PngImagePlugin.PngImageFile image mode=RGBA size=400x300>"
      ]
     },
     "metadata": {},
     "output_type": "display_data"
    }
   ],
   "source": [
    "app = BitBot(config, files)\n",
    "img  = app.display_chart()\n",
    "img.show()"
   ]
  },
  {
   "cell_type": "markdown",
   "metadata": {},
   "source": [
    "## Bitbot chart generation"
   ]
  },
  {
   "cell_type": "code",
   "execution_count": 11,
   "metadata": {},
   "outputs": [
    {
     "data": {
      "text/plain": [
       "<BTC/USDT 5m candle data>"
      ]
     },
     "execution_count": 11,
     "metadata": {},
     "output_type": "execute_result"
    }
   ],
   "source": [
    "# fetch configured candle history\n",
    "from src.exchanges import crypto_exchanges\n",
    "exchange = crypto_exchanges.Exchange(config)\n",
    "chart_data = exchange.fetch_history()\n",
    "chart_data"
   ]
  },
  {
   "cell_type": "code",
   "execution_count": 12,
   "metadata": {},
   "outputs": [
    {
     "data": {
      "image/png": "[encoded data removed]",
      "text/plain": [
       "<PIL.PngImagePlugin.PngImageFile image mode=RGBA size=400x300>"
      ]
     },
     "metadata": {},
     "output_type": "display_data"
    }
   ],
   "source": [
    "\n",
    "from src.drawing.mpf_plotted_chart import NewPlottedChart\n",
    "from src.display.picker import picker as display_picker\n",
    "import io\n",
    "from PIL import Image\n",
    "\n",
    "display = display_picker(config)\n",
    "chart = NewPlottedChart(config, display, files, chart_data)\n",
    "with io.BytesIO() as file_stream:\n",
    "    chart.write_to_stream(file_stream)\n",
    "    chart_image = Image.open(file_stream)\n",
    "    chart_image.show()"
   ]
  },
  {
   "cell_type": "code",
   "execution_count": 8,
   "metadata": {},
   "outputs": [
    {
     "data": {
      "image/png": "[encoded data removed]",
      "text/plain": [
       "<PIL.PngImagePlugin.PngImageFile image mode=RGBA size=385x279 at 0x7EFD19912850>"
      ]
     },
     "metadata": {},
     "output_type": "display_data"
    }
   ],
   "source": [
    "# plot chart and show image\n",
    "from src.drawing.market_chart import MarketChart\n",
    "from src.display.picker import picker as display_picker\n",
    "from PIL import Image\n",
    "import io\n",
    "\n",
    "display = display_picker(config)\n",
    "chart = MarketChart(config, display, files)\n",
    "\n",
    "with io.BytesIO() as file_stream:\n",
    "    chart.create_plot(chart_data).write_to_stream(file_stream)\n",
    "    chart_image = Image.open(file_stream)\n",
    "    chart_image.show()"
   ]
  },
  {
   "cell_type": "markdown",
   "metadata": {},
   "source": [
    "## MPF plot"
   ]
  },
  {
   "cell_type": "markdown",
   "metadata": {},
   "source": [
    "### Fetch Data"
   ]
  },
  {
   "cell_type": "code",
   "execution_count": null,
   "metadata": {
    "id": "eN618pI5tNiT"
   },
   "outputs": [],
   "source": [
    "# load markets for selected exchange\n",
    "exchange = getattr(ccxt, 'bitmex')()\n",
    "mkts = exchange.loadMarkets()"
   ]
  },
  {
   "cell_type": "code",
   "execution_count": null,
   "metadata": {
    "colab": {
     "base_uri": "https://localhost:8080/",
     "height": 175
    },
    "id": "9u0BXPm_tNiU",
    "outputId": "5aa5560e-5886-4bae-926e-e75310b6a341"
   },
   "outputs": [],
   "source": [
    "# fetch candles\n",
    "exchange_data = exchange.fetchOHLCV('BTC/USD', '5m', limit=40)\n",
    "# convert candles to dataframe\n",
    "df = pd.DataFrame(exchange_data)\n",
    "df.columns = [\"Date\", \"Open\", \"Low\", \"High\", \"Close\", \"Volume\"]\n",
    "df['Date'] = pd.to_datetime(df['Date'].astype('datetime64[ms]'))\n",
    "#df.index = pd.DatetimeIndex(df[\"Date\"].astype('datetime64[ms]'))\n",
    "df.set_index('Date', inplace=True)\n",
    "# df"
   ]
  },
  {
   "cell_type": "markdown",
   "metadata": {},
   "source": [
    "### Try to draw an attractive graph"
   ]
  },
  {
   "cell_type": "markdown",
   "metadata": {},
   "source": [
    "### 🛳️ imports"
   ]
  },
  {
   "cell_type": "code",
   "execution_count": 11,
   "metadata": {},
   "outputs": [],
   "source": [
    "import matplotlib\n",
    "from matplotlib  import pyplot as plt\n",
    "from matplotlib.ticker import EngFormatter\n",
    "matplotlib.use('Agg')\n",
    "import numpy \n",
    "display_size = (400,300)"
   ]
  },
  {
   "cell_type": "markdown",
   "metadata": {},
   "source": [
    "### ⏲️ select datetime format"
   ]
  },
  {
   "cell_type": "code",
   "execution_count": 12,
   "metadata": {},
   "outputs": [],
   "source": [
    "candle_time_delta = df.index.values[1] - df.index.values[0]\n",
    "if(candle_time_delta <= numpy.timedelta64(1,'h')):\n",
    "    format = '%H:%M'\n",
    "elif(candle_time_delta <= numpy.timedelta64(1,'D')): \n",
    "    format = '%b.%d'\n",
    "else:\n",
    "    format = '%b'"
   ]
  },
  {
   "cell_type": "markdown",
   "metadata": {},
   "source": [
    "### 📐 mpf style"
   ]
  },
  {
   "cell_type": "code",
   "execution_count": 13,
   "metadata": {},
   "outputs": [],
   "source": [
    "s = mpf.make_mpf_style(\n",
    "    marketcolors=mpf.make_marketcolors(\n",
    "        alpha=1.0,\n",
    "        up='black', down='red',\n",
    "        edge={'up': 'black', 'down': 'red'},  # 'none',\n",
    "        wick={'up': 'black', 'down': 'red'},\n",
    "        volume={'up': 'black', 'down': 'red'}\n",
    "    ),\n",
    "    base_mpl_style=[files.base_style, files.default_style],\n",
    "    mavcolors=['#1f77b4', '#ff7f0e', '#2ca02c'],\n",
    "    rc={}\n",
    ")"
   ]
  },
  {
   "cell_type": "markdown",
   "metadata": {},
   "source": [
    "### 📈 create plot figure"
   ]
  },
  {
   "cell_type": "code",
   "execution_count": 14,
   "metadata": {},
   "outputs": [],
   "source": [
    "fig, ax = mpf.plot(\n",
    "    df,\n",
    "    scale_width_adjustment=dict(volume=0.9, candle=0.7, lines=0.05),\n",
    "    update_width_config=dict(candle_linewidth=0.6),\n",
    "    returnfig=True,\n",
    "    type='candle',\n",
    "    # mav=(10, 20),\n",
    "    volume=False,\n",
    "    style=s,\n",
    "    tight_layout=True,\n",
    "    figsize=tuple(dim/100 for dim in display_size),\n",
    "    xrotation=0,\n",
    "    datetime_format=format,\n",
    ")"
   ]
  },
  {
   "cell_type": "markdown",
   "metadata": {},
   "source": [
    "### 🪓 customise axes"
   ]
  },
  {
   "cell_type": "code",
   "execution_count": 15,
   "metadata": {},
   "outputs": [],
   "source": [
    "\n",
    "for a in ax: \n",
    "    a.yaxis.set_major_formatter(EngFormatter(sep=''))\n",
    "    a.autoscale(enable=True, axis=\"x\", tight=True)\n",
    "    a.autoscale(enable=True, axis=\"y\", tight=True)\n",
    "    a.margins(0.1, 0.2)\n",
    "    _ = a.set_ylabel(\"\")\n",
    "    _ = a.set_xlabel(\"\")\n",
    "\n",
    "    # for label in a.yaxis.get_ticklabels():\n",
    "    #     label.set_horizontalalignment('left')\n",
    "        \n",
    "    # for label in a.xaxis.get_ticklabels():\n",
    "    #     label.set_verticalalignment('bottom')\n",
    "    #a.tick_params(rotation = 45, ha='left')"
   ]
  },
  {
   "cell_type": "markdown",
   "metadata": {},
   "source": [
    "### Output"
   ]
  },
  {
   "cell_type": "code",
   "execution_count": 16,
   "metadata": {},
   "outputs": [
    {
     "data": {
      "image/png": "[encoded data removed]",
      "text/plain": [
       "<PIL.PngImagePlugin.PngImageFile image mode=RGBA size=400x277 at 0x7EFD178357C0>"
      ]
     },
     "metadata": {},
     "output_type": "display_data"
    }
   ],
   "source": [
    "with io.BytesIO() as file_stream:\n",
    "    fig.savefig(file_stream, dpi=fig.dpi, bbox_inches='tight', pad_inches=0.0)\n",
    "    chart_image = Image.open(file_stream)\n",
    "    chart_image.show()"
   ]
  }
 ],
 "metadata": {
  "colab": {
   "collapsed_sections": [],
   "name": "Copy of external_axes.ipynb",
   "provenance": []
  },
  "kernelspec": {
   "display_name": "Python 3",
   "language": "python",
   "name": "python3"
  },
  "language_info": {
   "codemirror_mode": {
    "name": "ipython",
    "version": 3
   },
   "file_extension": ".py",
   "mimetype": "text/x-python",
   "name": "python",
   "nbconvert_exporter": "python",
   "pygments_lexer": "ipython3",
   "version": "3.10.12"
  }
 },
 "nbformat": 4,
 "nbformat_minor": 0
}
