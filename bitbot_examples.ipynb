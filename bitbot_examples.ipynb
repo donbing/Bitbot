{
 "cells": [
  {
   "cell_type": "markdown",
   "metadata": {},
   "source": [
    "# Bitbot"
   ]
  },
  {
   "cell_type": "markdown",
   "metadata": {},
   "source": [
    "## Setup"
   ]
  },
  {
   "cell_type": "code",
   "execution_count": 1,
   "metadata": {
    "id": "TGhh4E4ctNiS"
   },
   "outputs": [],
   "source": [
    "# This allows multiple outputs from a single jupyter notebook cell:\n",
    "from IPython.core.interactiveshell import InteractiveShell\n",
    "InteractiveShell.ast_node_interactivity = \"all\""
   ]
  },
  {
   "cell_type": "code",
   "execution_count": 1,
   "metadata": {
    "colab": {
     "base_uri": "https://localhost:8080/"
    },
    "id": "gohAI0ditNiT",
    "outputId": "49b29a80-c7e0-42a4-b407-a02f62d744a5"
   },
   "outputs": [],
   "source": [
    "%%capture output\n",
    "# Import external modules\n",
    "!{sys.executable} -m pip install ccxt yfinance git+https://github.com/donbing/mplfinance.git\n",
    "import pandas as pd\n",
    "import sys\n",
    "import ccxt\n",
    "import mplfinance as mpf\n",
    "from matplotlib.pyplot import imshow\n",
    "import yfinance"
   ]
  },
  {
   "cell_type": "code",
   "execution_count": 2,
   "metadata": {},
   "outputs": [],
   "source": [
    "# Import local modules\n",
    "from src.bitbot import BitBot\n",
    "from src.configuration.bitbot_files import use_config_dir\n",
    "from src.configuration.bitbot_config import load_config_ini"
   ]
  },
  {
   "cell_type": "markdown",
   "metadata": {},
   "source": [
    "### Load config files"
   ]
  },
  {
   "cell_type": "code",
   "execution_count": 4,
   "metadata": {},
   "outputs": [],
   "source": [
    "import os\n",
    "import pathlib\n",
    "\n",
    "curdir = pathlib.Path(os.path.abspath('')).resolve()\n",
    "files = use_config_dir(curdir)\n",
    "config = load_config_ini(files)\n",
    "config.set('display', 'output', 'disk')\n",
    "config.set('display', 'resolution', '400x300')\n"
   ]
  },
  {
   "cell_type": "markdown",
   "metadata": {},
   "source": [
    "## Bitbot display output  "
   ]
  },
  {
   "cell_type": "code",
   "execution_count": 5,
   "metadata": {},
   "outputs": [
    {
     "name": "stderr",
     "output_type": "stream",
     "text": [
      "/workspaces/Bitbot/src/drawing/market_charts/mpf_plotted_chart.py:135: UserWarning: This figure includes Axes that are not compatible with tight_layout, so results might be incorrect.\n",
      "  self.fig.savefig(\n"
     ]
    },
    {
     "data": {
      "image/png": "[encoded data removed]",
      "text/plain": [
       "<PIL.PngImagePlugin.PngImageFile image mode=RGBA size=400x300>"
      ]
     },
     "metadata": {},
     "output_type": "display_data"
    }
   ],
   "source": [
    "app = BitBot(config, files)\n",
    "img = app.display_chart()\n",
    "img.show()"
   ]
  },
  {
   "cell_type": "markdown",
   "metadata": {},
   "source": [
    "## Chart generation"
   ]
  },
  {
   "cell_type": "code",
   "execution_count": 6,
   "metadata": {},
   "outputs": [
    {
     "data": {
      "text/html": [
       "<div>\n",
       "<style scoped>\n",
       "    .dataframe tbody tr th:only-of-type {\n",
       "        vertical-align: middle;\n",
       "    }\n",
       "\n",
       "    .dataframe tbody tr th {\n",
       "        vertical-align: top;\n",
       "    }\n",
       "\n",
       "    .dataframe thead th {\n",
       "        text-align: right;\n",
       "    }\n",
       "</style>\n",
       "<table border=\"1\" class=\"dataframe\">\n",
       "  <thead>\n",
       "    <tr style=\"text-align: right;\">\n",
       "      <th></th>\n",
       "      <th>0</th>\n",
       "      <th>1</th>\n",
       "      <th>2</th>\n",
       "      <th>3</th>\n",
       "      <th>4</th>\n",
       "      <th>5</th>\n",
       "    </tr>\n",
       "  </thead>\n",
       "  <tbody>\n",
       "    <tr>\n",
       "      <th>0</th>\n",
       "      <td>2025-01-04 11:35:00</td>\n",
       "      <td>97788.05</td>\n",
       "      <td>97834.81</td>\n",
       "      <td>97788.05</td>\n",
       "      <td>97834.81</td>\n",
       "      <td>0.137563</td>\n",
       "    </tr>\n",
       "    <tr>\n",
       "      <th>1</th>\n",
       "      <td>2025-01-04 11:40:00</td>\n",
       "      <td>97839.49</td>\n",
       "      <td>97863.52</td>\n",
       "      <td>97839.49</td>\n",
       "      <td>97863.51</td>\n",
       "      <td>0.254791</td>\n",
       "    </tr>\n",
       "    <tr>\n",
       "      <th>2</th>\n",
       "      <td>2025-01-04 11:45:00</td>\n",
       "      <td>97856.06</td>\n",
       "      <td>97860.02</td>\n",
       "      <td>97838.03</td>\n",
       "      <td>97844.50</td>\n",
       "      <td>0.112031</td>\n",
       "    </tr>\n",
       "    <tr>\n",
       "      <th>3</th>\n",
       "      <td>2025-01-04 11:50:00</td>\n",
       "      <td>97849.37</td>\n",
       "      <td>97929.31</td>\n",
       "      <td>97849.37</td>\n",
       "      <td>97911.32</td>\n",
       "      <td>0.230586</td>\n",
       "    </tr>\n",
       "    <tr>\n",
       "      <th>4</th>\n",
       "      <td>2025-01-04 11:55:00</td>\n",
       "      <td>97907.69</td>\n",
       "      <td>97912.60</td>\n",
       "      <td>97875.93</td>\n",
       "      <td>97896.09</td>\n",
       "      <td>0.205535</td>\n",
       "    </tr>\n",
       "    <tr>\n",
       "      <th>5</th>\n",
       "      <td>2025-01-04 12:00:00</td>\n",
       "      <td>97887.62</td>\n",
       "      <td>97914.86</td>\n",
       "      <td>97871.11</td>\n",
       "      <td>97914.86</td>\n",
       "      <td>0.340026</td>\n",
       "    </tr>\n",
       "    <tr>\n",
       "      <th>6</th>\n",
       "      <td>2025-01-04 12:05:00</td>\n",
       "      <td>97935.94</td>\n",
       "      <td>97935.94</td>\n",
       "      <td>97813.25</td>\n",
       "      <td>97813.25</td>\n",
       "      <td>0.136760</td>\n",
       "    </tr>\n",
       "    <tr>\n",
       "      <th>7</th>\n",
       "      <td>2025-01-04 12:10:00</td>\n",
       "      <td>97836.40</td>\n",
       "      <td>97847.41</td>\n",
       "      <td>97836.40</td>\n",
       "      <td>97847.41</td>\n",
       "      <td>0.125410</td>\n",
       "    </tr>\n",
       "    <tr>\n",
       "      <th>8</th>\n",
       "      <td>2025-01-04 12:15:00</td>\n",
       "      <td>97847.40</td>\n",
       "      <td>97894.75</td>\n",
       "      <td>97815.09</td>\n",
       "      <td>97894.75</td>\n",
       "      <td>0.471756</td>\n",
       "    </tr>\n",
       "    <tr>\n",
       "      <th>9</th>\n",
       "      <td>2025-01-04 12:20:00</td>\n",
       "      <td>97893.41</td>\n",
       "      <td>97951.55</td>\n",
       "      <td>97893.41</td>\n",
       "      <td>97948.77</td>\n",
       "      <td>0.104591</td>\n",
       "    </tr>\n",
       "    <tr>\n",
       "      <th>10</th>\n",
       "      <td>2025-01-04 12:25:00</td>\n",
       "      <td>97949.00</td>\n",
       "      <td>98023.82</td>\n",
       "      <td>97921.95</td>\n",
       "      <td>97933.62</td>\n",
       "      <td>0.605200</td>\n",
       "    </tr>\n",
       "    <tr>\n",
       "      <th>11</th>\n",
       "      <td>2025-01-04 12:30:00</td>\n",
       "      <td>97919.77</td>\n",
       "      <td>97947.02</td>\n",
       "      <td>97871.51</td>\n",
       "      <td>97927.51</td>\n",
       "      <td>0.054250</td>\n",
       "    </tr>\n",
       "    <tr>\n",
       "      <th>12</th>\n",
       "      <td>2025-01-04 12:35:00</td>\n",
       "      <td>97896.53</td>\n",
       "      <td>97988.52</td>\n",
       "      <td>97891.02</td>\n",
       "      <td>97954.74</td>\n",
       "      <td>0.247649</td>\n",
       "    </tr>\n",
       "    <tr>\n",
       "      <th>13</th>\n",
       "      <td>2025-01-04 12:40:00</td>\n",
       "      <td>97929.29</td>\n",
       "      <td>97934.43</td>\n",
       "      <td>97834.29</td>\n",
       "      <td>97839.11</td>\n",
       "      <td>0.355680</td>\n",
       "    </tr>\n",
       "    <tr>\n",
       "      <th>14</th>\n",
       "      <td>2025-01-04 12:45:00</td>\n",
       "      <td>97839.10</td>\n",
       "      <td>97867.18</td>\n",
       "      <td>97807.93</td>\n",
       "      <td>97867.18</td>\n",
       "      <td>0.082847</td>\n",
       "    </tr>\n",
       "    <tr>\n",
       "      <th>15</th>\n",
       "      <td>2025-01-04 12:50:00</td>\n",
       "      <td>97877.99</td>\n",
       "      <td>97877.99</td>\n",
       "      <td>97859.95</td>\n",
       "      <td>97863.55</td>\n",
       "      <td>0.084991</td>\n",
       "    </tr>\n",
       "    <tr>\n",
       "      <th>16</th>\n",
       "      <td>2025-01-04 12:55:00</td>\n",
       "      <td>97894.52</td>\n",
       "      <td>97913.00</td>\n",
       "      <td>97886.94</td>\n",
       "      <td>97898.55</td>\n",
       "      <td>0.057651</td>\n",
       "    </tr>\n",
       "    <tr>\n",
       "      <th>17</th>\n",
       "      <td>2025-01-04 13:00:00</td>\n",
       "      <td>97913.67</td>\n",
       "      <td>97916.72</td>\n",
       "      <td>97879.97</td>\n",
       "      <td>97907.54</td>\n",
       "      <td>0.458527</td>\n",
       "    </tr>\n",
       "    <tr>\n",
       "      <th>18</th>\n",
       "      <td>2025-01-04 13:05:00</td>\n",
       "      <td>97896.12</td>\n",
       "      <td>97971.88</td>\n",
       "      <td>97887.90</td>\n",
       "      <td>97971.88</td>\n",
       "      <td>0.207668</td>\n",
       "    </tr>\n",
       "    <tr>\n",
       "      <th>19</th>\n",
       "      <td>2025-01-04 13:10:00</td>\n",
       "      <td>97960.05</td>\n",
       "      <td>97982.07</td>\n",
       "      <td>97852.63</td>\n",
       "      <td>97925.52</td>\n",
       "      <td>0.837681</td>\n",
       "    </tr>\n",
       "    <tr>\n",
       "      <th>20</th>\n",
       "      <td>2025-01-04 13:15:00</td>\n",
       "      <td>97890.70</td>\n",
       "      <td>97891.13</td>\n",
       "      <td>97780.17</td>\n",
       "      <td>97832.63</td>\n",
       "      <td>0.085361</td>\n",
       "    </tr>\n",
       "    <tr>\n",
       "      <th>21</th>\n",
       "      <td>2025-01-04 13:20:00</td>\n",
       "      <td>97844.15</td>\n",
       "      <td>97849.47</td>\n",
       "      <td>97794.28</td>\n",
       "      <td>97835.47</td>\n",
       "      <td>0.101268</td>\n",
       "    </tr>\n",
       "    <tr>\n",
       "      <th>22</th>\n",
       "      <td>2025-01-04 13:25:00</td>\n",
       "      <td>97842.45</td>\n",
       "      <td>97874.65</td>\n",
       "      <td>97818.27</td>\n",
       "      <td>97850.67</td>\n",
       "      <td>0.002133</td>\n",
       "    </tr>\n",
       "    <tr>\n",
       "      <th>23</th>\n",
       "      <td>2025-01-04 13:30:00</td>\n",
       "      <td>97857.41</td>\n",
       "      <td>97863.51</td>\n",
       "      <td>97752.14</td>\n",
       "      <td>97752.14</td>\n",
       "      <td>0.026636</td>\n",
       "    </tr>\n",
       "    <tr>\n",
       "      <th>24</th>\n",
       "      <td>2025-01-04 13:35:00</td>\n",
       "      <td>97754.04</td>\n",
       "      <td>97808.49</td>\n",
       "      <td>97754.04</td>\n",
       "      <td>97796.22</td>\n",
       "      <td>0.173469</td>\n",
       "    </tr>\n",
       "    <tr>\n",
       "      <th>25</th>\n",
       "      <td>2025-01-04 13:40:00</td>\n",
       "      <td>97796.22</td>\n",
       "      <td>97927.87</td>\n",
       "      <td>97780.31</td>\n",
       "      <td>97927.87</td>\n",
       "      <td>0.634304</td>\n",
       "    </tr>\n",
       "    <tr>\n",
       "      <th>26</th>\n",
       "      <td>2025-01-04 13:45:00</td>\n",
       "      <td>97938.71</td>\n",
       "      <td>97978.96</td>\n",
       "      <td>97936.58</td>\n",
       "      <td>97978.96</td>\n",
       "      <td>0.096116</td>\n",
       "    </tr>\n",
       "    <tr>\n",
       "      <th>27</th>\n",
       "      <td>2025-01-04 13:50:00</td>\n",
       "      <td>97962.59</td>\n",
       "      <td>98071.40</td>\n",
       "      <td>97951.45</td>\n",
       "      <td>98057.32</td>\n",
       "      <td>0.220656</td>\n",
       "    </tr>\n",
       "    <tr>\n",
       "      <th>28</th>\n",
       "      <td>2025-01-04 13:55:00</td>\n",
       "      <td>98067.12</td>\n",
       "      <td>98078.64</td>\n",
       "      <td>97982.16</td>\n",
       "      <td>97985.10</td>\n",
       "      <td>0.110851</td>\n",
       "    </tr>\n",
       "    <tr>\n",
       "      <th>29</th>\n",
       "      <td>2025-01-04 14:00:00</td>\n",
       "      <td>97985.10</td>\n",
       "      <td>97986.90</td>\n",
       "      <td>97930.91</td>\n",
       "      <td>97944.71</td>\n",
       "      <td>0.088638</td>\n",
       "    </tr>\n",
       "    <tr>\n",
       "      <th>30</th>\n",
       "      <td>2025-01-04 14:05:00</td>\n",
       "      <td>97939.39</td>\n",
       "      <td>97943.67</td>\n",
       "      <td>97903.54</td>\n",
       "      <td>97934.93</td>\n",
       "      <td>0.129598</td>\n",
       "    </tr>\n",
       "    <tr>\n",
       "      <th>31</th>\n",
       "      <td>2025-01-04 14:10:00</td>\n",
       "      <td>97921.94</td>\n",
       "      <td>97921.94</td>\n",
       "      <td>97859.25</td>\n",
       "      <td>97884.41</td>\n",
       "      <td>0.325572</td>\n",
       "    </tr>\n",
       "    <tr>\n",
       "      <th>32</th>\n",
       "      <td>2025-01-04 14:15:00</td>\n",
       "      <td>97875.29</td>\n",
       "      <td>97875.30</td>\n",
       "      <td>97834.20</td>\n",
       "      <td>97860.61</td>\n",
       "      <td>0.124932</td>\n",
       "    </tr>\n",
       "    <tr>\n",
       "      <th>33</th>\n",
       "      <td>2025-01-04 14:20:00</td>\n",
       "      <td>97869.11</td>\n",
       "      <td>97979.29</td>\n",
       "      <td>97869.11</td>\n",
       "      <td>97979.29</td>\n",
       "      <td>0.208550</td>\n",
       "    </tr>\n",
       "    <tr>\n",
       "      <th>34</th>\n",
       "      <td>2025-01-04 14:25:00</td>\n",
       "      <td>97994.61</td>\n",
       "      <td>98008.30</td>\n",
       "      <td>97955.36</td>\n",
       "      <td>98003.65</td>\n",
       "      <td>0.229945</td>\n",
       "    </tr>\n",
       "    <tr>\n",
       "      <th>35</th>\n",
       "      <td>2025-01-04 14:30:00</td>\n",
       "      <td>98003.65</td>\n",
       "      <td>98003.65</td>\n",
       "      <td>97946.39</td>\n",
       "      <td>97991.83</td>\n",
       "      <td>0.120038</td>\n",
       "    </tr>\n",
       "    <tr>\n",
       "      <th>36</th>\n",
       "      <td>2025-01-04 14:35:00</td>\n",
       "      <td>98014.25</td>\n",
       "      <td>98082.11</td>\n",
       "      <td>98014.25</td>\n",
       "      <td>98036.58</td>\n",
       "      <td>0.239083</td>\n",
       "    </tr>\n",
       "    <tr>\n",
       "      <th>37</th>\n",
       "      <td>2025-01-04 14:40:00</td>\n",
       "      <td>98068.05</td>\n",
       "      <td>98068.32</td>\n",
       "      <td>98038.13</td>\n",
       "      <td>98052.72</td>\n",
       "      <td>0.098273</td>\n",
       "    </tr>\n",
       "    <tr>\n",
       "      <th>38</th>\n",
       "      <td>2025-01-04 14:45:00</td>\n",
       "      <td>98028.75</td>\n",
       "      <td>98046.24</td>\n",
       "      <td>97999.47</td>\n",
       "      <td>98046.24</td>\n",
       "      <td>0.124693</td>\n",
       "    </tr>\n",
       "    <tr>\n",
       "      <th>39</th>\n",
       "      <td>2025-01-04 14:50:00</td>\n",
       "      <td>98028.27</td>\n",
       "      <td>98028.27</td>\n",
       "      <td>98014.27</td>\n",
       "      <td>98017.73</td>\n",
       "      <td>0.119945</td>\n",
       "    </tr>\n",
       "  </tbody>\n",
       "</table>\n",
       "</div>"
      ],
      "text/plain": [
       "                     0         1         2         3         4         5\n",
       "0  2025-01-04 11:35:00  97788.05  97834.81  97788.05  97834.81  0.137563\n",
       "1  2025-01-04 11:40:00  97839.49  97863.52  97839.49  97863.51  0.254791\n",
       "2  2025-01-04 11:45:00  97856.06  97860.02  97838.03  97844.50  0.112031\n",
       "3  2025-01-04 11:50:00  97849.37  97929.31  97849.37  97911.32  0.230586\n",
       "4  2025-01-04 11:55:00  97907.69  97912.60  97875.93  97896.09  0.205535\n",
       "5  2025-01-04 12:00:00  97887.62  97914.86  97871.11  97914.86  0.340026\n",
       "6  2025-01-04 12:05:00  97935.94  97935.94  97813.25  97813.25  0.136760\n",
       "7  2025-01-04 12:10:00  97836.40  97847.41  97836.40  97847.41  0.125410\n",
       "8  2025-01-04 12:15:00  97847.40  97894.75  97815.09  97894.75  0.471756\n",
       "9  2025-01-04 12:20:00  97893.41  97951.55  97893.41  97948.77  0.104591\n",
       "10 2025-01-04 12:25:00  97949.00  98023.82  97921.95  97933.62  0.605200\n",
       "11 2025-01-04 12:30:00  97919.77  97947.02  97871.51  97927.51  0.054250\n",
       "12 2025-01-04 12:35:00  97896.53  97988.52  97891.02  97954.74  0.247649\n",
       "13 2025-01-04 12:40:00  97929.29  97934.43  97834.29  97839.11  0.355680\n",
       "14 2025-01-04 12:45:00  97839.10  97867.18  97807.93  97867.18  0.082847\n",
       "15 2025-01-04 12:50:00  97877.99  97877.99  97859.95  97863.55  0.084991\n",
       "16 2025-01-04 12:55:00  97894.52  97913.00  97886.94  97898.55  0.057651\n",
       "17 2025-01-04 13:00:00  97913.67  97916.72  97879.97  97907.54  0.458527\n",
       "18 2025-01-04 13:05:00  97896.12  97971.88  97887.90  97971.88  0.207668\n",
       "19 2025-01-04 13:10:00  97960.05  97982.07  97852.63  97925.52  0.837681\n",
       "20 2025-01-04 13:15:00  97890.70  97891.13  97780.17  97832.63  0.085361\n",
       "21 2025-01-04 13:20:00  97844.15  97849.47  97794.28  97835.47  0.101268\n",
       "22 2025-01-04 13:25:00  97842.45  97874.65  97818.27  97850.67  0.002133\n",
       "23 2025-01-04 13:30:00  97857.41  97863.51  97752.14  97752.14  0.026636\n",
       "24 2025-01-04 13:35:00  97754.04  97808.49  97754.04  97796.22  0.173469\n",
       "25 2025-01-04 13:40:00  97796.22  97927.87  97780.31  97927.87  0.634304\n",
       "26 2025-01-04 13:45:00  97938.71  97978.96  97936.58  97978.96  0.096116\n",
       "27 2025-01-04 13:50:00  97962.59  98071.40  97951.45  98057.32  0.220656\n",
       "28 2025-01-04 13:55:00  98067.12  98078.64  97982.16  97985.10  0.110851\n",
       "29 2025-01-04 14:00:00  97985.10  97986.90  97930.91  97944.71  0.088638\n",
       "30 2025-01-04 14:05:00  97939.39  97943.67  97903.54  97934.93  0.129598\n",
       "31 2025-01-04 14:10:00  97921.94  97921.94  97859.25  97884.41  0.325572\n",
       "32 2025-01-04 14:15:00  97875.29  97875.30  97834.20  97860.61  0.124932\n",
       "33 2025-01-04 14:20:00  97869.11  97979.29  97869.11  97979.29  0.208550\n",
       "34 2025-01-04 14:25:00  97994.61  98008.30  97955.36  98003.65  0.229945\n",
       "35 2025-01-04 14:30:00  98003.65  98003.65  97946.39  97991.83  0.120038\n",
       "36 2025-01-04 14:35:00  98014.25  98082.11  98014.25  98036.58  0.239083\n",
       "37 2025-01-04 14:40:00  98068.05  98068.32  98038.13  98052.72  0.098273\n",
       "38 2025-01-04 14:45:00  98028.75  98046.24  97999.47  98046.24  0.124693\n",
       "39 2025-01-04 14:50:00  98028.27  98028.27  98014.27  98017.73  0.119945"
      ]
     },
     "execution_count": 6,
     "metadata": {},
     "output_type": "execute_result"
    }
   ],
   "source": [
    "# fetch configured candle history\n",
    "from src.exchanges import crypto_exchanges\n",
    "\n",
    "exchange = crypto_exchanges.Exchange(config)\n",
    "chart_data = exchange.fetch_history()\n",
    "import pandas as pd\n",
    "pd.DataFrame(chart_data.candle_data)"
   ]
  },
  {
   "cell_type": "code",
   "execution_count": 8,
   "metadata": {},
   "outputs": [
    {
     "name": "stderr",
     "output_type": "stream",
     "text": [
      "/workspaces/Bitbot/src/drawing/market_charts/mpf_plotted_chart.py:135: UserWarning: This figure includes Axes that are not compatible with tight_layout, so results might be incorrect.\n",
      "  self.fig.savefig(\n"
     ]
    },
    {
     "data": {
      "image/png": "[encoded data removed]",
      "text/plain": [
       "<PIL.PngImagePlugin.PngImageFile image mode=RGBA size=400x300>"
      ]
     },
     "metadata": {},
     "output_type": "display_data"
    }
   ],
   "source": [
    "from src.drawing.market_charts.mpf_plotted_chart import NewPlottedChart\n",
    "from src.display.picker import picker as display_picker\n",
    "import io\n",
    "from PIL import Image\n",
    "\n",
    "display = display_picker(config)\n",
    "chart = NewPlottedChart(config, display, files, chart_data)\n",
    "with io.BytesIO() as file_stream:\n",
    "    chart.write_to_stream(file_stream)\n",
    "    chart_image = Image.open(file_stream)\n",
    "    chart_image.show()"
   ]
  },
  {
   "cell_type": "code",
   "execution_count": 8,
   "metadata": {},
   "outputs": [
    {
     "data": {
      "image/png": "[encoded data removed]",
      "text/plain": [
       "<PIL.PngImagePlugin.PngImageFile image mode=RGBA size=385x279 at 0x7EFD19912850>"
      ]
     },
     "metadata": {},
     "output_type": "display_data"
    }
   ],
   "source": [
    "# plot chart and show image\n",
    "from src.drawing.market_charts.market_chart import MarketChart\n",
    "from src.display.picker import picker as display_picker\n",
    "from PIL import Image\n",
    "import io\n",
    "\n",
    "display = display_picker(config)\n",
    "chart = MarketChart(config, display, files)\n",
    "\n",
    "with io.BytesIO() as file_stream:\n",
    "    chart.create_plot(chart_data).write_to_stream(file_stream)\n",
    "    chart_image = Image.open(file_stream)\n",
    "    chart_image.show()"
   ]
  },
  {
   "cell_type": "markdown",
   "metadata": {},
   "source": [
    "## MPF plot"
   ]
  },
  {
   "cell_type": "markdown",
   "metadata": {},
   "source": [
    "### Fetch Data"
   ]
  },
  {
   "cell_type": "code",
   "execution_count": null,
   "metadata": {
    "id": "eN618pI5tNiT"
   },
   "outputs": [],
   "source": [
    "# load markets for selected exchange\n",
    "exchange = getattr(ccxt, 'bitmex')()\n",
    "mkts = exchange.loadMarkets()"
   ]
  },
  {
   "cell_type": "code",
   "execution_count": null,
   "metadata": {
    "colab": {
     "base_uri": "https://localhost:8080/",
     "height": 175
    },
    "id": "9u0BXPm_tNiU",
    "outputId": "5aa5560e-5886-4bae-926e-e75310b6a341"
   },
   "outputs": [],
   "source": [
    "# fetch candles\n",
    "exchange_data = exchange.fetchOHLCV('BTC/USD', '5m', limit=40)\n",
    "# convert candles to dataframe\n",
    "df = pd.DataFrame(exchange_data)\n",
    "df.columns = [\"Date\", \"Open\", \"Low\", \"High\", \"Close\", \"Volume\"]\n",
    "df['Date'] = pd.to_datetime(df['Date'].astype('datetime64[ms]'))\n",
    "#df.index = pd.DatetimeIndex(df[\"Date\"].astype('datetime64[ms]'))\n",
    "df.set_index('Date', inplace=True)\n",
    "# df"
   ]
  },
  {
   "cell_type": "markdown",
   "metadata": {},
   "source": [
    "### Try to draw an attractive graph"
   ]
  },
  {
   "cell_type": "markdown",
   "metadata": {},
   "source": [
    "### 🛳️ imports"
   ]
  },
  {
   "cell_type": "code",
   "execution_count": 11,
   "metadata": {},
   "outputs": [],
   "source": [
    "import matplotlib\n",
    "from matplotlib  import pyplot as plt\n",
    "from matplotlib.ticker import EngFormatter\n",
    "matplotlib.use('Agg')\n",
    "import numpy \n",
    "display_size = (400,300)"
   ]
  },
  {
   "cell_type": "markdown",
   "metadata": {},
   "source": [
    "### ⏲️ select datetime format"
   ]
  },
  {
   "cell_type": "code",
   "execution_count": 12,
   "metadata": {},
   "outputs": [],
   "source": [
    "candle_time_delta = df.index.values[1] - df.index.values[0]\n",
    "if(candle_time_delta <= numpy.timedelta64(1,'h')):\n",
    "    format = '%H:%M'\n",
    "elif(candle_time_delta <= numpy.timedelta64(1,'D')): \n",
    "    format = '%b.%d'\n",
    "else:\n",
    "    format = '%b'"
   ]
  },
  {
   "cell_type": "markdown",
   "metadata": {},
   "source": [
    "### 📐 mpf style"
   ]
  },
  {
   "cell_type": "code",
   "execution_count": 13,
   "metadata": {},
   "outputs": [],
   "source": [
    "s = mpf.make_mpf_style(\n",
    "    marketcolors=mpf.make_marketcolors(\n",
    "        alpha=1.0,\n",
    "        up='black', down='red',\n",
    "        edge={'up': 'black', 'down': 'red'},  # 'none',\n",
    "        wick={'up': 'black', 'down': 'red'},\n",
    "        volume={'up': 'black', 'down': 'red'}\n",
    "    ),\n",
    "    base_mpl_style=[files.base_style, files.default_style],\n",
    "    mavcolors=['#1f77b4', '#ff7f0e', '#2ca02c'],\n",
    "    rc={}\n",
    ")"
   ]
  },
  {
   "cell_type": "markdown",
   "metadata": {},
   "source": [
    "### 📈 create plot figure"
   ]
  },
  {
   "cell_type": "code",
   "execution_count": 14,
   "metadata": {},
   "outputs": [],
   "source": [
    "fig, ax = mpf.plot(\n",
    "    df,\n",
    "    scale_width_adjustment=dict(volume=0.9, candle=0.7, lines=0.05),\n",
    "    update_width_config=dict(candle_linewidth=0.6),\n",
    "    returnfig=True,\n",
    "    type='candle',\n",
    "    # mav=(10, 20),\n",
    "    volume=False,\n",
    "    style=s,\n",
    "    tight_layout=True,\n",
    "    figsize=tuple(dim/100 for dim in display_size),\n",
    "    xrotation=0,\n",
    "    datetime_format=format,\n",
    ")"
   ]
  },
  {
   "cell_type": "markdown",
   "metadata": {},
   "source": [
    "### 🪓 customise axes"
   ]
  },
  {
   "cell_type": "code",
   "execution_count": 15,
   "metadata": {},
   "outputs": [],
   "source": [
    "\n",
    "for a in ax: \n",
    "    a.yaxis.set_major_formatter(EngFormatter(sep=''))\n",
    "    a.autoscale(enable=True, axis=\"x\", tight=True)\n",
    "    a.autoscale(enable=True, axis=\"y\", tight=True)\n",
    "    a.margins(0.1, 0.2)\n",
    "    _ = a.set_ylabel(\"\")\n",
    "    _ = a.set_xlabel(\"\")\n",
    "\n",
    "    # for label in a.yaxis.get_ticklabels():\n",
    "    #     label.set_horizontalalignment('left')\n",
    "        \n",
    "    # for label in a.xaxis.get_ticklabels():\n",
    "    #     label.set_verticalalignment('bottom')\n",
    "    #a.tick_params(rotation = 45, ha='left')"
   ]
  },
  {
   "cell_type": "markdown",
   "metadata": {},
   "source": [
    "### Output"
   ]
  },
  {
   "cell_type": "code",
   "execution_count": 16,
   "metadata": {},
   "outputs": [
    {
     "data": {
      "image/png": "[encoded data removed]",
      "text/plain": [
       "<PIL.PngImagePlugin.PngImageFile image mode=RGBA size=400x277 at 0x7EFD178357C0>"
      ]
     },
     "metadata": {},
     "output_type": "display_data"
    }
   ],
   "source": [
    "with io.BytesIO() as file_stream:\n",
    "    fig.savefig(file_stream, dpi=fig.dpi, bbox_inches='tight', pad_inches=0.0)\n",
    "    chart_image = Image.open(file_stream)\n",
    "    chart_image.show()"
   ]
  }
 ],
 "metadata": {
  "colab": {
   "collapsed_sections": [],
   "name": "Copy of external_axes.ipynb",
   "provenance": []
  },
  "kernelspec": {
   "display_name": "Python 3",
   "language": "python",
   "name": "python3"
  },
  "language_info": {
   "codemirror_mode": {
    "name": "ipython",
    "version": 3
   },
   "file_extension": ".py",
   "mimetype": "text/x-python",
   "name": "python",
   "nbconvert_exporter": "python",
   "pygments_lexer": "ipython3",
   "version": "3.10.12"
  }
 },
 "nbformat": 4,
 "nbformat_minor": 0
}
